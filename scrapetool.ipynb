{
 "cells": [
  {
   "cell_type": "code",
   "execution_count": 1,
   "metadata": {
    "ExecuteTime": {
     "end_time": "2020-05-30T07:31:16.553038Z",
     "start_time": "2020-05-30T07:31:16.193284Z"
    }
   },
   "outputs": [],
   "source": [
    "from bs4 import BeautifulSoup\n",
    "import pprint as pp\n",
    "import urllib\n",
    "import requests"
   ]
  },
  {
   "cell_type": "code",
   "execution_count": 2,
   "metadata": {
    "ExecuteTime": {
     "end_time": "2020-05-30T07:31:17.538281Z",
     "start_time": "2020-05-30T07:31:16.555770Z"
    }
   },
   "outputs": [
    {
     "name": "stdout",
     "output_type": "stream",
     "text": [
      "<div class=\"detail__content\">\n",
      "<h3>Description</h3>\n",
      "<div itemprop=\"description\">\n",
      "<div class=\"std\">\n",
      "<p>The Belvedere Maletti Nova Styling Chair is Made 100% in North America and is exclusively available only at Buy-Rite! This styling chair was designed with quality and durability in mind as it is built to last in the busiest and toughest salon environments. The Nova Styling Chair features a smooth interior vinyl surface that is perfectly complimented by an eye-catching quilted stitch pattern on the exterior arm and back cushions. The smooth vinyl interior, as well as the small openings between the seat and back cushions, make this chair incredibly easy to clean. This styling chair features and extra-wide seat to keep even your largest customers comfortable and a low backrest which is great when cutting longer hair. The Nova Styling Chair is available for quick ship in black vinyl and brushed chrome base but is also available in more than 80 vibrant vinyl colors to perfectly match the décor of your salon or spa. Additionally, the Nova Styling Chair comes complete on a 23” brushed chrome base but it is also available on a painted black base by special order. If you are looking for a styling chair with great style that can also be the workhorse in any salon, then the Nova Styling Chair is the one for you! *Please allow 4 - 5 weeks for shipment of colors other than Black or those selecting the painted black base option.<br/><br/><span style=\"text-decoration: underline;\">Features: </span></p>\n",
      "<ul>\n",
      "<li>Made 100% in North America by Belvedere Maletti</li>\n",
      "<li>Available Exclusively at Buy-Rite Salon Equipment!</li>\n",
      "<li>Low Backrest for Cutting Long Hair</li>\n",
      "<li>Extra-Wide Seat w/ Resilient Foam Padded Upholstery</li>\n",
      "<li>5 Year Warranty on Hydraulic Pump</li>\n",
      "<li>Polished Chrome “U” Footrest</li>\n",
      "<li>(2) 23\" Base Options – Brushed Chrome &amp; Painted Black</li>\n",
      "<li>Black Vinyl Available for Quick Shipment</li>\n",
      "<li>Available in Over 80 Vibrant Vinyl Colors</li>\n",
      "</ul> </div>\n",
      "</div>\n",
      "<!--\r\n",
      "/**\r\n",
      " * Unicode Systems\r\n",
      " * @category   Uni\r\n",
      " * @package    Uni_Fileuploader\r\n",
      " * @copyright  Copyright (c) 2010-2011 Unicode Systems. (http://www.unicodesystems.in)\r\n",
      " * @license    http://opensource.org/licenses/afl-3.0.php  Academic Free License (AFL 3.0)\r\n",
      " */\r\n",
      " -->\n",
      "<a class=\"action\" href=\"#reviews\">Read Reviews</a>\n",
      "</div>\n"
     ]
    }
   ],
   "source": [
    "url = 'https://www.buyritebeauty.com/belvedere-bu12-nova-styling-chair/'\n",
    "page = requests.get(url)\n",
    "soup = BeautifulSoup(page.content,'html.parser')\n",
    "\n",
    "content= soup.find('div', class_='detail__content')\n",
    "print(content)"
   ]
  },
  {
   "cell_type": "code",
   "execution_count": 3,
   "metadata": {
    "ExecuteTime": {
     "end_time": "2020-05-30T07:31:18.412156Z",
     "start_time": "2020-05-30T07:31:17.545284Z"
    }
   },
   "outputs": [],
   "source": [
    "import pandas as pd\n"
   ]
  },
  {
   "cell_type": "code",
   "execution_count": 4,
   "metadata": {
    "ExecuteTime": {
     "end_time": "2020-05-30T07:31:18.423883Z",
     "start_time": "2020-05-30T07:31:18.414694Z"
    }
   },
   "outputs": [
    {
     "name": "stdout",
     "output_type": "stream",
     "text": [
      "<div class=\"detail__content\">\n",
      " <h3>\n",
      "  Description\n",
      " </h3>\n",
      " <div itemprop=\"description\">\n",
      "  <div class=\"std\">\n",
      "   <p>\n",
      "    The Belvedere Maletti Nova Styling Chair is Made 100% in North America and is exclusively available only at Buy-Rite! This styling chair was designed with quality and durability in mind as it is built to last in the busiest and toughest salon environments. The Nova Styling Chair features a smooth interior vinyl surface that is perfectly complimented by an eye-catching quilted stitch pattern on the exterior arm and back cushions. The smooth vinyl interior, as well as the small openings between the seat and back cushions, make this chair incredibly easy to clean. This styling chair features and extra-wide seat to keep even your largest customers comfortable and a low backrest which is great when cutting longer hair. The Nova Styling Chair is available for quick ship in black vinyl and brushed chrome base but is also available in more than 80 vibrant vinyl colors to perfectly match the décor of your salon or spa. Additionally, the Nova Styling Chair comes complete on a 23” brushed chrome base but it is also available on a painted black base by special order. If you are looking for a styling chair with great style that can also be the workhorse in any salon, then the Nova Styling Chair is the one for you! *Please allow 4 - 5 weeks for shipment of colors other than Black or those selecting the painted black base option.\n",
      "    <br/>\n",
      "    <br/>\n",
      "    <span style=\"text-decoration: underline;\">\n",
      "     Features:\n",
      "    </span>\n",
      "   </p>\n",
      "   <ul>\n",
      "    <li>\n",
      "     Made 100% in North America by Belvedere Maletti\n",
      "    </li>\n",
      "    <li>\n",
      "     Available Exclusively at Buy-Rite Salon Equipment!\n",
      "    </li>\n",
      "    <li>\n",
      "     Low Backrest for Cutting Long Hair\n",
      "    </li>\n",
      "    <li>\n",
      "     Extra-Wide Seat w/ Resilient Foam Padded Upholstery\n",
      "    </li>\n",
      "    <li>\n",
      "     5 Year Warranty on Hydraulic Pump\n",
      "    </li>\n",
      "    <li>\n",
      "     Polished Chrome “U” Footrest\n",
      "    </li>\n",
      "    <li>\n",
      "     (2) 23\" Base Options – Brushed Chrome &amp; Painted Black\n",
      "    </li>\n",
      "    <li>\n",
      "     Black Vinyl Available for Quick Shipment\n",
      "    </li>\n",
      "    <li>\n",
      "     Available in Over 80 Vibrant Vinyl Colors\n",
      "    </li>\n",
      "   </ul>\n",
      "  </div>\n",
      " </div>\n",
      " <!--\r\n",
      "/**\r\n",
      " * Unicode Systems\r\n",
      " * @category   Uni\r\n",
      " * @package    Uni_Fileuploader\r\n",
      " * @copyright  Copyright (c) 2010-2011 Unicode Systems. (http://www.unicodesystems.in)\r\n",
      " * @license    http://opensource.org/licenses/afl-3.0.php  Academic Free License (AFL 3.0)\r\n",
      " */\r\n",
      " -->\n",
      " <a class=\"action\" href=\"#reviews\">\n",
      "  Read Reviews\n",
      " </a>\n",
      "</div>\n",
      "\n"
     ]
    }
   ],
   "source": [
    "print (content.prettify())\n",
    "    \n",
    "    "
   ]
  },
  {
   "cell_type": "code",
   "execution_count": null,
   "metadata": {
    "ExecuteTime": {
     "end_time": "2020-05-29T19:57:43.710956Z",
     "start_time": "2020-05-29T19:57:32.234842Z"
    }
   },
   "outputs": [],
   "source": []
  },
  {
   "cell_type": "code",
   "execution_count": 5,
   "metadata": {
    "ExecuteTime": {
     "end_time": "2020-05-30T07:31:18.458282Z",
     "start_time": "2020-05-30T07:31:18.427563Z"
    }
   },
   "outputs": [
    {
     "data": {
      "text/plain": [
       "'\\nDescription\\n\\n\\nThe Belvedere Maletti Nova Styling Chair is Made 100% in North America and is exclusively available only at Buy-Rite! This styling chair was designed with quality and durability in mind as it is built to last in the busiest and toughest salon environments. The Nova Styling Chair features a smooth interior vinyl surface that is perfectly complimented by an eye-catching quilted stitch pattern on the exterior arm and back cushions. The smooth vinyl interior, as well as the small openings between the seat and back cushions, make this chair incredibly easy to clean. This styling chair features and extra-wide seat to keep even your largest customers comfortable and a low backrest which is great when cutting longer hair. The Nova Styling Chair is available for quick ship in black vinyl and brushed chrome base but is also available in more than 80 vibrant vinyl colors to perfectly match the décor of your salon or spa. Additionally, the Nova Styling Chair comes complete on a 23” brushed chrome base but it is also available on a painted black base by special order. If you are looking for a styling chair with great style that can also be the workhorse in any salon, then the Nova Styling Chair is the one for you! *Please allow 4 - 5 weeks for shipment of colors other than Black or those selecting the painted black base option.Features:\\xa0\\n\\nMade 100% in North America by Belvedere Maletti\\nAvailable Exclusively at Buy-Rite Salon Equipment!\\nLow Backrest for Cutting Long Hair\\nExtra-Wide Seat w/ Resilient Foam Padded Upholstery\\n5 Year Warranty on Hydraulic Pump\\nPolished Chrome “U” Footrest\\n(2) 23\" Base Options – Brushed Chrome & Painted Black\\nBlack Vinyl Available for Quick Shipment\\nAvailable in Over 80 Vibrant Vinyl Colors\\n \\n\\n\\nRead Reviews\\n'"
      ]
     },
     "execution_count": 5,
     "metadata": {},
     "output_type": "execute_result"
    }
   ],
   "source": [
    "content.text"
   ]
  },
  {
   "cell_type": "code",
   "execution_count": 6,
   "metadata": {
    "ExecuteTime": {
     "end_time": "2020-05-30T07:31:18.488963Z",
     "start_time": "2020-05-30T07:31:18.461720Z"
    }
   },
   "outputs": [
    {
     "data": {
      "text/plain": [
       "str"
      ]
     },
     "execution_count": 6,
     "metadata": {},
     "output_type": "execute_result"
    }
   ],
   "source": [
    "type(content.text)"
   ]
  },
  {
   "cell_type": "code",
   "execution_count": 23,
   "metadata": {
    "ExecuteTime": {
     "end_time": "2020-05-30T08:08:49.770296Z",
     "start_time": "2020-05-30T08:08:49.757478Z"
    }
   },
   "outputs": [],
   "source": [
    "urls = ['https://www.buyritebeauty.com/belvedere-bu12-nova-styling-chair/',\n",
    "'https://www.buyritebeauty.com/belvedere-kami-unisex-barber-chair/',\n",
    "'https://www.buyritebeauty.com/belvedere-rocky-barber-chair/',\n",
    "'https://www.buyritebeauty.com/belvedere-zeus-easy-barber-chair/',\n",
    "'https://www.buyritebeauty.com/belvedere-camaleonte-fashion-backwash-unit/',\n",
    "'https://www.buyritebeauty.com/belvedere-camaleonte-swing-backwash-unit/',\n",
    "'https://www.buyritebeauty.com/maxim-double-sided-styling-station-w-ledge/',\n",
    "'https://www.buyritebeauty.com/omni-platinum-styling-station-w-mobile-base/',\n",
    "'https://www.buyritebeauty.com/omni-platinum-double-styling-station-w-mobile-base/',\n",
    "'https://www.buyritebeauty.com/continuum-300-count-liners-for-pedicute/',\n",
    "'https://www.buyritebeauty.com/3-5-x-5-ic-urethane-extra-soft-circular-mat-w-square-cut-out-5-8/',\n",
    "'https://www.buyritebeauty.com/3-5-x-5-ic-urethane-extra-soft-rectangle-mat-w-square-cut-out-5-8/',\n",
    "'https://www.buyritebeauty.com/3-x-4-5-ic-urethane-extra-soft-circular-mat-w-square-cut-out-3-4/',\n",
    "'https://www.buyritebeauty.com/3-x-4-5-ic-urethane-extra-soft-rectangle-mat-w-square-cut-out-3-4/',\n",
    "'https://www.buyritebeauty.com/j-a-epiray-sanitizer/',\n",
    "'https://www.buyritebeauty.com/j-a-heat-dry-nail-dryer/',\n",
    "'https://www.buyritebeauty.com/j-a-lenox-gx-pedicure-spa-w-glass-bowl/',\n",
    "'https://www.buyritebeauty.com/j-a-hot-towel-warmer-large/',\n",
    "'https://www.buyritebeauty.com/j-a-hot-towel-warmer-medium/',\n",
    "'https://www.buyritebeauty.com/j-a-hot-towel-warmer-small/',\n",
    "'https://www.buyritebeauty.com/pibbs-lumina-led-salon-mirror-storage-server-w-base/',\n",
    "'https://www.buyritebeauty.com/pibbs-126-ecovap-professional-hair-steamer/',\n",
    "'https://www.buyritebeauty.com/pibbs-127-ecovap-professional-hair-steamer-w-wall-mount/',\n",
    "'https://www.buyritebeauty.com/pibbs-128-ecovap-ion-professional-hair-steamer/',\n",
    "'https://www.buyritebeauty.com/pibbs-129-ecovap-ion-professional-hair-steamer-w-wall-mount/',\n",
    "'https://www.buyritebeauty.com/pibbs-1813-sportster-race-car-kid-s-styling-chair/',\n",
    "'https://www.buyritebeauty.com/pibbs-3400-square-design-styling-chair/',\n",
    "'https://www.buyritebeauty.com/pibbs-3400-tufted-styling-chair/',\n",
    "'https://www.buyritebeauty.com/pibbs-2269-fondi-dryer-chair/',\n",
    "'https://www.buyritebeauty.com/pibbs-3169-luca-dryer-chair/',\n",
    "'https://www.buyritebeauty.com/pibbs-3269-ragusa-dryer-chair/',\n",
    "'https://www.buyritebeauty.com/pibbs-3270-ragusa-kid-s-styling-chair/',\n",
    "'https://www.buyritebeauty.com/pibbs-3292-ragusa-desk-chair/',\n",
    "'https://www.buyritebeauty.com/pibbs-3447-cosmo-threading-chair/',\n",
    "'https://www.buyritebeauty.com/pibbs-3570-sessa-kid-s-styling-chair/',\n",
    "'https://www.buyritebeauty.com/pibbs-3670-messina-kid-s-styling-chair/',\n",
    "'https://www.buyritebeauty.com/pibbs-3770-pisa-kid-s-styling-chair/',\n",
    "'https://www.buyritebeauty.com/pibbs-4347-lambada-threading-chair/',\n",
    "'https://www.buyritebeauty.com/pibbs-4370-lambada-kid-s-styling-chair/',\n",
    "'https://www.buyritebeauty.com/pibbs-4506-bari-styling-chair/',\n",
    "'https://www.buyritebeauty.com/pibbs-5222-fondi-backwash-unit/',\n",
    "'https://www.buyritebeauty.com/pibbs-5258-rosa-backwash-unit/',\n",
    "'https://www.buyritebeauty.com/pibbs-5447-loop-threading-chair/',\n",
    "'https://www.buyritebeauty.com/pibbs-5470-loop-kid-s-styling-chair/',\n",
    "'https://www.buyritebeauty.com/pibbs-5892-rosa-desk-chair/',\n",
    "'https://www.buyritebeauty.com/pibbs-wave-isola-double-sided-station/',\n",
    "'https://www.buyritebeauty.com/pibbs-847-karim-threading-chair/',\n",
    "'https://www.buyritebeauty.com/pibbs-classic-isola-double-sided-station/',\n",
    "'https://www.buyritebeauty.com/pibbs-led-lumina-salon-mirror/',\n",
    "'https://www.buyritebeauty.com/pibbs-970-cloud-nine-kid-s-styling-chair/',\n",
    "'https://www.buyritebeauty.com/pibbs-art57h-metal-mayo-utility-tray-w-appliance-holder/',\n",
    "'https://www.buyritebeauty.com/belvedere-jelly-fish-color-trolley/',\n",
    "'https://www.buyritebeauty.com/marcel-professional-barber-chair/',\n",
    "'https://www.buyritebeauty.com/maxim-styling-station-w-ledge/',\n",
    "'https://www.buyritebeauty.com/omni-styling-station-w-mobile-base/',\n",
    "'https://www.buyritebeauty.com/omni-double-styling-station-w-mobile-base/',\n",
    "'https://www.buyritebeauty.com/omni-distressed-styling-station-w-mobile-base/',\n",
    "'https://www.buyritebeauty.com/omni-distressed-double-styling-station-w-mobile-base/',\n",
    "'https://www.buyritebeauty.com/j-a-empress-lx-pedicure-spa-w-glass-bowl/',\n",
    "'https://www.buyritebeauty.com/j-a-empress-se-pedicure-spa-w-glass-bowl/',\n",
    "'https://www.buyritebeauty.com/j-a-lenox-lx-pedicure-spa-w-glass-bowl/',\n",
    "'https://www.buyritebeauty.com/j-a-lenox-m-pedicure-spa-w-glass-bowl/',\n",
    "'https://www.buyritebeauty.com/j-a-petra-gx-pedicure-spa-w-glass-bowl/',\n",
    "'https://www.buyritebeauty.com/j-a-cookie-technician-stool/',\n",
    "'https://www.buyritebeauty.com/j-a-m-technician-stool/',\n",
    "'https://www.buyritebeauty.com/pibbs-3206-ragusa-styling-chair/',\n",
    "'https://www.buyritebeauty.com/pibbs-3446-cosmo-all-purpose-chair/',\n",
    "'https://www.buyritebeauty.com/pibbs-5221-matera-backwash-unit/',\n",
    "'https://www.buyritebeauty.com/pibbs-5231-luca-backwash-unit/',\n",
    "'https://www.buyritebeauty.com/pibbs-diamond-salon-mirror/',\n",
    "'https://www.buyritebeauty.com/pibbs-diamond-salon-mirror-storage-server/',\n",
    "'https://www.buyritebeauty.com/pibbs-wave-salon-mirror/',\n",
    "'https://www.buyritebeauty.com/pibbs-wave-salon-mirror-storage-server/',\n",
    "'https://www.buyritebeauty.com/pibbs-classic-salon-mirror/',\n",
    "'https://www.buyritebeauty.com/pibbs-classic-salon-mirror-storage-server/',\n",
    "'https://www.buyritebeauty.com/pibbs-lumina-led-salon-mirror-storage-server/']"
   ]
  },
  {
   "cell_type": "code",
   "execution_count": 54,
   "metadata": {
    "ExecuteTime": {
     "end_time": "2020-05-30T09:00:54.328896Z",
     "start_time": "2020-05-30T08:59:51.604069Z"
    }
   },
   "outputs": [],
   "source": [
    "new_list=[]\n",
    "for url in urls:\n",
    "    response = requests.get(url)\n",
    "    soup = BeautifulSoup(response.content, \"html.parser\")\n",
    "    h1 = soup.find('div', class_='detail__content')\n",
    "    new_list.append(h1.text)"
   ]
  },
  {
   "cell_type": "code",
   "execution_count": 55,
   "metadata": {
    "ExecuteTime": {
     "end_time": "2020-05-30T09:01:01.434896Z",
     "start_time": "2020-05-30T09:01:01.422713Z"
    }
   },
   "outputs": [
    {
     "data": {
      "text/plain": [
       "['\\nDescription\\n\\n\\nThe Belvedere Maletti Nova Styling Chair is Made 100% in North America and is exclusively available only at Buy-Rite! This styling chair was designed with quality and durability in mind as it is built to last in the busiest and toughest salon environments. The Nova Styling Chair features a smooth interior vinyl surface that is perfectly complimented by an eye-catching quilted stitch pattern on the exterior arm and back cushions. The smooth vinyl interior, as well as the small openings between the seat and back cushions, make this chair incredibly easy to clean. This styling chair features and extra-wide seat to keep even your largest customers comfortable and a low backrest which is great when cutting longer hair. The Nova Styling Chair is available for quick ship in black vinyl and brushed chrome base but is also available in more than 80 vibrant vinyl colors to perfectly match the décor of your salon or spa. Additionally, the Nova Styling Chair comes complete on a 23” brushed chrome base but it is also available on a painted black base by special order. If you are looking for a styling chair with great style that can also be the workhorse in any salon, then the Nova Styling Chair is the one for you! *Please allow 4 - 5 weeks for shipment of colors other than Black or those selecting the painted black base option.Features:\\xa0\\n\\nMade 100% in North America by Belvedere Maletti\\nAvailable Exclusively at Buy-Rite Salon Equipment!\\nLow Backrest for Cutting Long Hair\\nExtra-Wide Seat w/ Resilient Foam Padded Upholstery\\n5 Year Warranty on Hydraulic Pump\\nPolished Chrome “U” Footrest\\n(2) 23\" Base Options – Brushed Chrome & Painted Black\\nBlack Vinyl Available for Quick Shipment\\nAvailable in Over 80 Vibrant Vinyl Colors\\n \\n\\n\\nRead Reviews\\n',\n",
       " '\\nDescription\\n\\n\\nThe Belvedere Kami Unisex Barber Chair is an Italian Made Barber Chair that offers unmatched durability and functionality. This barber chair perfectly blends contemporary style with unmatched usability that comforts both the stylist and client. The contoured seat back of the Kami provides added lumbar support while the curved seat keeps the clients comfortable and in perfect cutting position. The Kami Unisex Barber Chair features upholstered arm rests for maximum comfort and a vertically adjustable head rest to cater to customers of all sizes. The Kami Unisex Barber Chair can also be accompanied by the Kami Reclining All Purpose Chair and/or the Kami Styling Chair \\xa0to offer great design continuity across your salon or barber shop.\\nFeatures:\\n\\nItalian Made Barber Chair\\nContoured Seat Back & Curved Seat for Great Comfort\\nExtra Wide Winged Seat & Back Rest\\nContemporary Style Barber Chair\\nAdjustable Headrest\\nLow Density Expanded Polyurethane Foam Structure and Metal Insert\\n5 Year Warranty on Hydraulic Pump.\\n \\n\\n\\nRead Reviews\\n',\n",
       " '\\nDescription\\n\\n\\nThe Belvedere Rocky Barber Chair is a professional Barber Chair that is Made in Italy and is sure to look dashing in any barber shop or salon! The Rocky is a reclining barber’s chair featuring a hydraulic swivel pump with brake, reclining seat with synchronized back and leg lift movement and an adjustable headrest. It’s heavy duty frame and polished high rigidity aluminum tread plate provides ultimate control and stability.\\xa0 This time-honored design is upholstered in vinyl and showcased with diamond stitching on both the seat and back cushions. The Rocky barber chair comes complete with a five-year warranty on its hydraulic pump as well as a one year warranty on all other parts, assuring you peace of mind with this exceptional chair. The Rocky Barber Chair is available in two colors options; black vinyl with a black frame and black base or brown vinyl with a white frame and white base.\\xa0\\nFeatures:\\n\\nItalian Made Professional Barber Chair\\nHydraulic Swivel Pump with Brake\\nDiamond Pattern Stitched Leather on Seat & Back Cushions\\nHeavy Duty Frame\\nAdjustable, Pull Out Headrest With Stainless Steel Insert\\nReclining Seat w/ Synchronized Back & Leg Lift\\nSeat With Traditional Steel Springs For Maximum Seating Comfort\\nAvailable In Two Color Options\\n \\n\\n\\nRead Reviews\\n',\n",
       " '\\nDescription\\n\\n\\nThe Belvedere Zeus Easy Barber Chair is an Italian made Barber Chair that can satisfy even the most demanding customer in terms of quality and comfort. The Zeus Easy is a reclining swivel barber’s chair featuring a hydraulic swivel pump with brake, reclining seat with synchronized back and leg lift movement and adjustable headrest and footrest. It’s heavy duty frame and polished high rigidity aluminum tread plate provides the ultimate control and stability.\\xa0 This time-honored design is upholstered in vinyl and showcased with diamond stitching on both the front and back of the barber’s chair. The Zeus Easy barber chair comes with a five year warranty on it’s hydraulic pump as well as a one year warranty on all other parts, assuring you peace of mind with this exceptional chair.\\xa0The Zeus Easy Barber Chair is available for quick ship as pictured, with black vinyl and black piping.\\xa0\\nFeatures:\\n\\nItalian Made Professional Barber Chair\\nHydraulic Swivel Pump with Brake\\nDiamond Pattern Stitched Vinyl\\nHeavy Duty Frame\\nReclining Seat w/ Synchronized Back & Leg Lift\\nBackrest With Inside Elastic Straps For High Comfort\\nSeat With Traditional Steel Springs For Maximum Seating Comfort\\nAvailable in Black Upholstery with Black Piping\\n \\n\\n\\nRead Reviews\\n',\n",
       " '\\nDescription\\n\\n\\nThe Belvedere Camaleonte Fashion Backwash Unit is Made in Italy with the utmost quality and attention to detail at the forefront. This sleek backwash unit comes in black eco-leather upholstery with eye-catching polished aluminum arm rests that are sure to make any modern salon shine. The Camaleonte Fashion makes cleaning, plumbing\\xa0 and maintenance almost effortless by offering a flip up seat, which is also an indispensable feature for facilitating inspections. This backwash unit also comes with a motorized leg rest option for ultimate client comfort. The Belvedere Camaleonte Fashion Backwash comes complete with a white ceramic tilting shampoo bowl that features UPC certified fixtures. **Not compatible for use with a deck mounted Vacuum Breaker**\\nFeatures:\\n\\nItalian Made Shampoo Backwash Unit\\nBlack Eco-Leather Upholstery\\nPolished Aluminum Arm Rests\\nWhite Ceramic Tilting Shampoo Bowl\\nUPC Certified Fixtures\\nFlip Up Seat for Effortless Cleaning & Maintenance\\nMotorized Leg Rest Option Available for an Upcharge\\n5 Year Warranty on Ceramic Shampoo Bowl\\n \\n\\n\\nRead Reviews\\n',\n",
       " '\\nDescription\\n\\n\\nThe Belvedere Camaleonte Swing Backwash Unit is Italian made and offers luxurious design and extreme comfort. This shampoo backwash unit features a white ceramic tilting shampoo bowl complete with UPC certified fixtures and comes upholstered in a durable black eco-leather upholstery. The Camaleonte Swing makes cleaning, plumbing and maintenance almost effortless by offering a flip up seat, which is also an indispensable feature for facilitating inspections. This backwash unit also comes with a motorized leg rest option for ultimate client comfort. The Belvedere Camaleonte Swing Backwash is available for quick shipment and is a great addition for any salon or spa. **Not compatible for use with a deck mounted Vacuum Breaker**\\nFeatures:\\n\\nItalian Made Shampoo Backwash Unit\\nBlack Eco-Leather Upholstery\\nWhite Ceramic Tilting Shampoo Bowl\\nUPC Certified Fixtures\\nFlip Up Seat for Effortless Cleaning & Maintenance\\nMotorized Leg Rest Option Available for an Upcharge\\n5 Year Warranty on Ceramic Shampoo Bowl\\n \\n\\n\\nRead Reviews\\n',\n",
       " '\\nDescription\\n\\n\\nThe Maxim Double-Sided Styling Station w/ Ledge is 100% Made in the U.S.A. and is perfect for not one, but TWO stylists! This free-standing, two-sided salon styling station ships to you fully assembled and comes complete with (2) front ledges & (2) 30\" x 28\" mirrors. Each side of the Maxim Double Sided Styling Station w/ Ledge is identically equipped with an upper storage cabinet, two utility drawers, storage cabinet with a slide-out tool panel to accommodate one blow dryer and two curling irons, as well as one lower drawer for additional storage! This dual sided station is designed with style and functionality in mind, and is sure to suit any salon décor! The Maxim is available in your choice of 40 laminate colors with two-tone options, so ask your Buy-Rite Beauty Sales representative today!\\nDescription:\\n\\nMade 100% in the U.S.A.\\nComplete with Front Ledge on Each Side\\nMirrors Included on Each Side 30\" x 28\"\\nAvailable in 40 Popular Laminates Colors w/ Two-Tone Option\\nEach Side Identically Equipped with: - (1) Upper Storage Cabinet - (1) Slide Out Tool Panel - (3) Utility Drawers\\nFull Extension Glides & Brushed Metal Handles\\n** Ships Fully Assembled **\\n \\n\\n\\nRead Reviews\\n',\n",
       " '\\nDescription\\n\\n\\nThe Omni Platinum Styling Station is made 100% in the U.S.A. and features a metallic finish that is both modern and virtually indestructible. The metallic finish on the Omni Platinum Station offers a modern and industrial look that is sure to elevate the style of any Salon or Spa. The metallic finish also offers the durability and performance needed to withstand even the busiest professional salon environments. This styling station comes complete with a 60\" full-length mirror and ships to you in two fully assembled pieces for quick and easy installation. A stylist working on the Omni Platinum will be greeted on the right-hand side with an upper storage cabinet, two utility drawers, a slide-out tool panel to accommodate one blow dryer and two curling irons, as well as an extra lower drawer for additional storage! The left side of this styling station offers even more storage space with two large cabinets. Additionally, the Omni Platinum also features hidden wheels on the bottom for easy cleaning and maneuverability throughout your salon. This feature would be a great asset to any cosmetology school looking for an easy transformation from classroom to hands-on work space. If you are looking for a high-end Salon Station that is both eye-catching and extremely durable then you have found the one! And if you have the need for (2) Stylists at the same station we offer the Omni Platinum Double Styling station w/ Mobile Base.\\nFeatures:\\n\\nMade 100% in the U.S.A.\\nMetallic Finish for Great Modern Style & Durability\\nHigh-End Industrial Metallic Design\\nComplete w/ 60\" Full Length Mirror\\nFull Extension Glides & Brushed Metal Handles\\nHidden Wheels for Great Mobility\\n(3) Storage Cabinets\\n(1) Storage Drawer\\n(2) Utility Drawers\\n(1) Right-Hand Pull Out Appliance Drawer\\n \\n\\n\\nRead Reviews\\n',\n",
       " '\\nDescription\\n\\n\\nThe Omni Platinum Double Styling Station is made 100% in the U.S.A. and features a metallic finish that is both modern and virtually indestructible. The metallic finish on the Omni Platinum Station offers a modern and industrial look that is sure to elevate the style of any Salon or Spa. The metallic finish also offers the durability and performance needed to withstand even the busiest professional salon environments. This styling station is double-sided and is designed to accommodate the needs of two stylists working at the same time.\\xa0 The Omni Platinum Double Station comes complete with (2) 60\" full-length mirrors and ships to you in two fully assembled pieces for quick and easy installation. Each side of this double styling station is identically equipped with an upper storage cabinet, two utility drawers, a slide-out tool panel to accommodate one blow dryer and two curling irons, and an extra lower drawer for additional storage. Additionally, the Omni Platinum also features hidden wheels on the bottom for easy cleaning and maneuverability throughout your salon. This feature would be a great asset to any cosmetology school looking for an easy transition from classroom to hands-on work space. If you are looking for a high-end Double-Sided Salon Station that is both eye-catching and extremely durable then you have found the one! And if you have the need for only (1) Stylist per station we off the Omni Platinum Styling Station w/ Mobile Base.\\xa0\\nFeatures:\\n\\nMade 100% in the U.S.A.\\nDesigned & Built Double Sided for Two Stylists\\nMetallic Finish for Great Modern Style & Durability\\nHigh-End Industrial Metallic Design\\nComplete w/ (2) 60\" Full Length Mirrors\\nFull Extension Glides & Brushed Metal Handles\\nHidden Wheels for Great Mobility\\n(2) Storage Cabinets\\n(2) Storage Drawers\\n(4) Utility Drawers\\n(2) Pull Out Appliance Drawers\\n \\n\\n\\nRead Reviews\\n',\n",
       " '\\nDescription\\n\\n\\n        Make sanitation your biggest priority. The Pedicute & Simplicity offer a safe, worry-free solution to minimizing cross contamination by utilizing disposable liners in the removable tub. Spend less time cleaning and sanitizing and more time with your next client. This pack of 300 liners are brand new and come ready to use out of the box!    \\n\\n\\nRead Reviews\\n',\n",
       " '\\nDescription\\n\\n\\nThis Extra Soft Circular Salon Mat w/ Square Cut Out is made by IC Urethane, which guarantees the utmost quality found in the salon industry. This circular mat is unique in that it features a square cut out depression which works perfectly for any square base chair, and it can also accommodate round chair base as well! This particular mat is professional grade and measures 3.5’ x 5’, with a 5/8” thickness to help reduce strain on feet, legs, neck and back! IC Urethane‘s super soft mats provide cushioned comfort and protective floor care for all Salons and Barber Shops, & feature an INDUSTRY BEST 5 YEAR WARRANTY!!\\nFeatures:\\n\\n5/8” Thick Professional Grade Mat\\nIndustry Best 5 Year Warranty\\nExtra Soft Salon Mat Technology by IC Urethane\\n3.5’ x 5’ Circular Anti-Fatigue Salon Mat w/ Square Indentation\\nCan Be Used With Square or Round Chair Base\\nReduces Strain on Neck, Back, Legs and Feet\\n \\n\\n\\nRead Reviews\\n',\n",
       " '\\nDescription\\n\\n\\nThis Extra Soft Rectangle Salon Mat w/ Square Cut Out is made by IC Urethane, which guarantees only the finest quality found in the salon industry. This rectangular mat is unique in that it features a square cut out which works perfectly with any square base chair, and it also can accommodate either a round chair base as well! This particular mat measures 3.5’ x 5’, with a professional grade 5/8” thickness to help reduce strain on feet, legs, neck and back! IC Urethane‘s super soft mats provide cushioned comfort and protective floor care for all Salons and Barber Shops, & come complete with an INDUSTRY BEST 5 YEAR WARRANTY!\\nFeatures:\\n\\n5/8” Thick Professional Grade Mat\\nIndustry Best 5 Year Warranty\\nExtra Soft Salon Mat Technology by IC Urethane\\n3.5’ x 5’ Rectangular Anti-Fatigue Salon Mat w/ Square Indentation\\nCan Be Used With Square or Round Chair Base\\nReduces Strain on Neck, Back, Legs and Feet\\n \\n\\n\\nRead Reviews\\n',\n",
       " '\\nDescription\\n\\n\\nThis Extra Soft Circular Salon Mat w/ Square Cut Out is made by IC Urethane, which guarantees the utmost quality found in the salon industry. This circular mat is unique in that it features a square cut out which works perfectly with any square base chair, and it can also accommodate a round chair base as well! This particular mat measures 3’ x 4.5’, with a professional grade 3/4” thickness to help reduce strain on feet, legs, neck and back! IC Urethane ‘s super soft mats provide cushioned comfort and protective floor care for all Salons and Barber Shops, and come complete with an INDUSTRY BEST 5 YEAR WARRANTY!\\nFeatures:\\n\\n3/4” Thick Professional Grade Mat\\nIndustry Best 5 Year Warranty\\nExtra Soft Salon Mat Technology by IC Urethane\\n3’ x 4.5’ Circular Anti-Fatigue Salon Mat w/ Square Indentation\\nCan Be Used With Square or Round Chair Base\\nReduces Strain on Neck, Back, Legs and Feet\\n \\n\\n\\nRead Reviews\\n',\n",
       " '\\nDescription\\n\\n\\nThis Extra Soft Rectangle Salon Mat w/ Square Cut Out is made by IC Urethane, which guarantees the best quality found in the salon industry. This rectangular mat is unique in that it features a square cut out which works perfectly iwth any square base chair, and it can also work with a round chair base as well! This particular mat measures 3’ x 4.5’, with a professional grade 3/4” thickness to help reduce strain on feet, legs, neck and back! IC Urethane‘s super soft mats provide cushioned comfort and protective floor care for all Salons and Barber Shops, and come with an INDUSTRY BEST 5 YEAR WARRANTY!!\\nFeatures:\\n\\n3/4\" Thick Professional Grade Mat\\nIndustry Best 5 Year Warranty\\nExtra Soft Salon Mat Technology by IC Urethane\\n3’ x 4.5’ Rectangular Anti-Fatigue Salon Mat w/ Square Indentation\\nCan Be Used With Square or Round Chair Base\\nReduces Strain on Neck, Back, Legs and Feet\\n \\n\\n\\nRead Reviews\\n',\n",
       " '\\nDescription\\n\\n\\nWith the J&A Epiray Sanitizer, there will never be any question if your tools are cleaned and sanitized correctly.\\xa0 This sanitizer comes quipped with a long lasting UV bulb as well as two pull-out shelves for easy use. The cover and door are made with UV resistant substance to protect technician’s eyes and skin. The door is transparent for easy viewing and is integrated with a sensor which automatically turns the UV Light Off whenever the door is open. The bactericidal and fungicidal properties of UV light are incorporated into designing this safe and effective Epiray sanitizer.\\nFeatures\\xa0\\n\\nAutomatic On/Off Function Door\\nEasy View Window\\n2 Pull-Out Shelves\\nUltraviolet Hospital Grade Germicidal Bulb\\n \\n\\n\\nRead Reviews\\n',\n",
       " '\\nDescription\\n\\n\\nThe J&A Heat And Dry Nail Polish Dryer Machine is where functionality meets convenience. This nail polish dryer machine offers two temperature settings and it has an automatic on and off sensor simplifying the process when nails are wet from manicure and/or pedicure and trying to avoid accidents. This sleek nail dryer is designed for use on both hands and feet.\\nFeatures -\\xa0\\n\\nTwo Temperature Options\\nAutomatic On And Off Sensor\\nFor Both Hands And Feet\\n \\n\\n\\nRead Reviews\\n',\n",
       " \"\\nDescription\\n\\n\\nThe J&A Lenox GX Pedicure Spa is a modern pedicure chair with beautiful finishes that create a synergy of cool, contemporary style without sacrificing an ounce of comfort. The Lenox GX comes with an easily operated remote control, allowing the client to be absolutely spoil themselves by personalizing the detail of their Shiatsu Massage experience. This pedicure chair features a durable glass bowl with J&A's Durable Infiniti Pipeless Whirlpool, a handcrafted fiberglass base with a Gel Coat finish, and beautiful cherry wood arm rests. The Lenox GX is truly the pedicure spa of choice for Day Spas and Salons with an eye for design and comfort.\\xa0\\nFeatures:\\n\\nInfiniti Pipeless Whirlpool\\nPower Recline And Slide\\n10-inch Adjustable Foot Rest\\nFull Function Shiatsu Massage\\nMulticolor LED Lighting In Bowl\\nManicure Trays With Cup Holders\\nDual Function Fill-And-Spray Hose\\nCherry Wood\\xa0 Arms Rest with Adjustable Trays\\nRemote Control To Personalize Shiatsu Massage Experience\\nHancrafted Fiberglass Base wit a Gel Coat Finish\\nChair Colors: Black, Chocolate, Jade Green, Pearl Purple, Rosewood Red, Taupe Beige\\nGlass Bowl Colors: Crystal Reflections, Gold Reflections And Nickel\\nBase Colors: Phantom Black & Porcelain White\\n \\n\\n\\nDownload Lenox GX Manual\\nDownload Lenox GX Specifications \\nDownload Lenox GX Component Cut Sheet \\nDownload Lenox GX Component Cut Sheet \\nRead Reviews\\n\",\n",
       " '\\nDescription\\n\\n\\nThe J&A Hot Towel Warmer (Large) is the perfect addition to your salon or spa and bade by a well-respected leader in the salon and spa industry. It is excellent for warming towels for soothing and hygienic treatment on your clients. It warms and then keeps towels consistently warm, ensuring a ready supply of warm towels are always available. This hot towel cabinet is equipped with double doors and a pair of interior shelves, allowing it to accommodate up to 48 hand-sized facial towels For best results, make sure your wring out all the excess water before rolling the towels up and placing them inside the unit. The J&A Hot Towel Warmer is ideal for any salon, spa or barbershop.\\n\\xa0\\nFeatures:\\n\\nLarge Capacity\\nDouble Doors\\nAccommodates Up To 48 Facial Towels\\nNo UV Bulb\\n \\n\\n\\nRead Reviews\\n',\n",
       " '\\nDescription\\n\\n\\nThe J&A Hot Towel Warmer (Medium) is the perfect addition to your salon or spa and bade by a well-respected leader in the salon and spa industry. It is excellent for warming towels for soothing and hygienic treatment on your clients. It warms and then keeps towels consistently warm, ensuring a ready supply of warm towels are always available. This hot towel cabinet is equipped with a pair of interior shelves, allowing it to accommodate up to 24 hand-sized facial towels. For best results, make sure your wring out all the excess water before rolling the towels up and placing them inside the unit. The J&A Hot Towel Warmer is ideal for any salon, spa or barbershop. \\nFeatures:\\n\\nMedium Capacity\\nTwo Shelves\\nAccommodates Up To 24 Facial Towels\\n \\n\\n\\nRead Reviews\\n',\n",
       " '\\nDescription\\n\\n\\nThe J&A Hot Towel Warmer (Small) is the perfect addition to your salon or spa and made by a well-respected leader in the salon and spa industry. The towel warmer will keep the towels warm for refreshing and hygienic treatments on your clients. This \"small\" unit will hold up to 12 hand-sized facial towels. For best results, make sure you wring out all the excess water before rolling the towels up and placing them inside the unit. This unit is great for compact locations that are needing to save space!\\nFeatures -\\xa0\\n\\nHolds up to 12 Hand-Sized Facial Towels\\xa0\\nCompact Unit for Compact Spaces\\nKeeps Towels Warm for Treatments\\nPerfect for Barber Shops, Salons & Spas\\n \\n\\n\\nRead Reviews\\n',\n",
       " '\\nDescription\\n\\n\\nThe Pibbs Lumina LED Salon Mirror & Storage Server w/ Base add a clean & modern touch to any salon, spa or barbershop. The extra-large, full-length mirror features a built-in dimmable LED light with an easily accessible on/off button, that will bring a refined glamour to your salon or spa. The wood server is available in black or white, and features durable metal bar pulls, 1 tool holder with wire access to keep the drawer closed while using your tools, 1 utility drawer, 2 spacious storage cabinets on the right side, and 2 large storage cabinets on the left side. Also, if you need an additional mirror to match this luxury styling station we offer the Pibbs Lumnina LED Salon Mirror.\\xa0\\nFeatures:\\n\\nExtra-Large, Full-Length Mirror\\nBuilt-In Dimmable LED Light\\nEasy & Accessible On/Off Button\\nClean & Modern Style\\nPull-Out Tool Holder w/ Wire Access\\n2 Large Storage Cabinets on Left Side\\n1 Pull Out Tool Panel with Tool Holders on Right Side\\n1 Utility Drawer on Right Side\\n2 Spacious Storage Cabinets on Right Side\\nSmall Footprint w/ Plenty of Storage\\n \\n\\n\\nRead Reviews\\n',\n",
       " '\\nDescription\\n\\n\\nPibbs 126 EcoVap Professional Hair Steamer is a professional grade hair steamer that is 100% MADE IN ITALY. This model comes with a caster base making it easy to move around any salon or spa. The Pibbs 126 Hair steamer features a visible water reservoir and dissipater ring to adjust steam intensity. This professional hair steamer also has an easy to read 60 minute timer and temperature controllers, side handles, adjustable angle hood, and removable condensation reservoir. The Pibbs 126 Hair steamer also includes a measuring cup and funnel for easy filling. Buy this Hair Steamer and Never Buy Another One as this is a must have for any salon that does a high volume of color and chemicals.\\nFeatures:\\n\\nProfessional Grade Hair Steamer 100% MADE IN ITALY\\nDurable Caster Base for Easy Transport Around the Salon\\nFully Height Adjustable Stand & Steamer Hood\\n60 Minute Timer & Temperature Control\\nDissipater Ring to Adjust Steam Intensity\\nIncludes Measuring Cup & Funnel for Easy Filling\\nVisible Water Reservoir to Promote Best Filling Practices\\xa0\\n \\n\\n\\nRead Reviews\\n',\n",
       " \"\\nDescription\\n\\n\\nPibbs 127 EcoVap Professional Hair Steamer w/ Wall Mount is a professional grade hair steamer that is 100% MADE IN ITALY. This model comes with a 6' extendable wall arm keeping it conveniently out of the way and making it great for small spaces. This wall-mount hair steamer is a huge space saver and is a necessity for any salon doing a large volume of color & chemicals. The Pibbs 127 EcoVap features a visible water reservoir to help promote best filling practices and a dissipater ring to adjust steam intensity. This professional hair steamer also has an easy to read 60 minute timer and temperature controllers, side handles, adjustable angle hood, and removable condensation reservoir. The Pibbs 127 Hair steamer also includes a measuring cup and funnel for easy filling. If you are a salon that processes a large volume of color or hydration treatments and looking for a great quality professional hair steamer, than this is the unit for you. *Expedited Shipping Available, Ask your Buy-Rite Sales Consultant\\nFeatures:\\n\\nProfessional Grade Hair Steamer 100% MADE IN ITALY\\n6' Extendable Wall Arm - Very Stylish & Convenient\\n60 Minute Timer & Temperature Control\\nDissipater Ring to Adjust Steam Intensity\\xa0\\nIncludes Measuring Cup & Funnel for Easy Filling\\nVisible Water Reservoir to Promote Best Filling Practices\\nPerfect for Small Salons & Spas Looking to Save Space\\n \\n\\n\\nRead Reviews\\n\",\n",
       " '\\nDescription\\n\\n\\nPibbs 128 EcoVap Ion Professional Hair Steamer is a professional grade Ionic hair steamer that is 100% MADE IN ITALY. This model comes with a durable caster base making it easy to move around any salon or spa. The Ionic Hair Steamer is scientifically proven to break the water molecules into small negatively charges ions allowing the steam to penetrate into the clients hair deeper and faster. The Pibbs 128 Professional Hair Steamer features an easy to read 60 minute timer and temperature controllers, side handles, adjustable angle hood, and removable condensation reservoir. This unit also includes a measuring cup and funnel for easy filling. If you are looking for a high quality professional hair steamer that is built to last in a high volume salon environment, that this is the unit for you! *Expedited Shipping available, please ask your Buy-Rite sales consultant.\\xa0\\n\\nProfessional Grade Ionic Hair Steamer 100% MADE IN ITALY\\nIonic Technology Proven to Penetrate Steam Deeper & Faster\\nDurable Caster Base for Easy Transport Around the Salon\\nFully Height Adjustable Stand & Steamer Hood\\n60 Minute Timer & Temperature Control\\nDissipater Ring to Adjust Steam Intensity\\nIncludes Measuring Cup & Funnel for Easy Filling\\n \\n\\n\\nRead Reviews\\n',\n",
       " \"\\nDescription\\n\\n\\nPibbs 129 EcoVap Ion Professional Hair Steamer w/ Wall Mount is a professional grade Ionic hair steamer that is 100% MADE IN ITALY. This model comes with a 6' extendable wall arm keeping it conveniently out of the way and making it perfect for any small salon looking to save space. The Ionic Hair Steamer is scientifically proven to break the water molecules into small negatively charges ions allowing the steam to penetrate into the client's hair deeper and faster. The Pibbs 129 EvoVap Ion features an easy to read 60 minute timer and temperature controllers, side handles, adjustable angle hood, and removable condensation reservoir. This professional hair steamer also includes a measuring cup and funnel for easy filling. If you are looking for a high quality hair steamer that is about to mount to the wall and will work well in a busy salon environment than you have found the one for you! *Expedited Shipping available, please ask your Buy-Rite sales consultant.\\nFeatures:\\n\\nProfessional Grade Ionic Hair Steamer 100% MADE IN ITALY\\nIonic Technology Proven to Penetrate Steam Deeper & Faster\\n6' Extendable Wall Arm - Very Stylish & Convenient\\nPerfect for Any Salon or Spa Looking to Save Space\\n60 Minute Timer & Temperature Control\\nDissipater Ring to Adjust Steam Intensity\\nIncludes Measuring Cup & Funnel for Easy Filling\\n \\n\\n\\nRead Reviews\\n\",\n",
       " '\\nDescription\\n\\n\\nThe Pibbs 1813 Sportster Race Car Kid\\'s Styling Chair is made by Pibbs Industries which guarantees the utmost craftsmanship found in the salon equipment industry. This Race Car style children’s salon chair includes a steering wheel and is sure to bring a smile to any kid’s face. The Pibbs 1813 Sportster also features a full metal frame giving it far more durability than its plastic counterparts. This chair also comes with an upholstered seat cushion and comes on a Pibbs 23\" hydraulic round base. *Expedited Shipping is available, so please ask your Buy-Rite Sales Representative today!\\nFeatures:\\n\\nKid’s Salon Styling Chair\\nFull Metal Frame for Great Durability\\nRace Car Style w/ Steering Wheel\\nSeat belts Included for Child Safety\\nComes Complete w/ a 23” Hydraulic Round Base\\nUpholstered Seat Cushion\\n \\n\\n\\nRead Reviews\\n',\n",
       " '\\nDescription\\n\\n\\nThe Pibbs 2106 Matera Styling Chair is manufactured in the U.S.A. and is designed with durability, client comfort, and world-class style in mind. Available in 40 Custom Vinyl Colors, the Pibbs 2106 Matera Styling Chair features a cushioned Extra-Wide Seat, a Heavy-Duty Hydraulic Pump for easy adjustment of clients, two Durable Footrest options, and is embellished with Chic Quilted Vinyl on the arms & backrest. As part of the Pibbs Matera Family, the Pibbs 2106 Matera Styling Chair matches perfectly with the Matera Backwash Unit, and takes luxury to the next level by providing a chic, stylish touch to any salon.\\nFeatures:\\n\\nMade in the U.S.A. by Pibbs Industries\\nAvailable in 40 Custom Vinyl Colors\\nExtra-Wide Seat for Client Comfort\\nChic Quilted Vinyl Offers Beautiful Class Style\\nMultiple Heavy-Duty Hydraulic Base Options\\nTwo Durable Metal Footrest Options\\n \\n\\n\\nRead Reviews\\n',\n",
       " '\\nDescription\\n\\n\\nThe Pibbs 2206 Fondi Styling Chair is manufactured in the U.S.A. and is elegantly designed with client comfort, durability, and world-class style in mind. The Pibbs 2206 Fondi Styling Chair features a luxuriously cushioned Extra-Wide Seat, a Heavy-Duty Hydraulic Pump for easy adjustment of clients, two Durable Footrest options, and is embellished with Sumptuous Tufted Vinyl. Available in 40 vinyl colors, the Pibbs 2206 Fondi Styling Chair takes luxury to the next level by providing an elegant, classic touch to any salon. As part of the Pibbs Fondi Family, the Pibbs 2206 Fondi Styling Chair matches perfectly with the Fondi Backwash Unit and the Fondi Dryer Chair!\\nFeatures:\\n\\nManufactured in the U.S.A. by Pibbs Industries\\nAvailable in 40 Custom Vinyl Colors\\nExtra Wide Seat for Client Comfort\\nHeavy-Duty Hydraulic Pump w/ Multiple Options\\nTwo Durable Footrest Options\\nEmbellished w/ Tufted Vinyl for Beautiful Classic Design\\n \\n\\n\\nRead Reviews\\n',\n",
       " '\\nDescription\\n\\n\\nThe Pibbs 2269 Fondi Dryer Chair is 100% Manufactured in the U.S.A. and is designed with durability, client comfort, and world-class style in mind. This American Made Dryer Chair features a Luxuriously Cushioned Extra-Wide Seat with Extra-Wide Armrests designed for client comfort, a Rust Resistant Base for unmatched durability, and is embellished with Sumptuous Tufted Vinyl. The Pibbs 2269 Fondi Dryer Chair can accommodate any standard size box dryer or be customized to fit the Pibbs 514 or 516 dryer. As part of the Pibbs Fondi Family, this dryer chair matches perfectly with the Fondi Styling Chair and Fondi Backwash Unit. The Pibbs 2269 Fondi Dryer Chair provides outstanding comfort and durability, while adding an elegant, classic touch to any salon.\\nFeatures:\\n\\nMade 100% in the U.S.A. by Pibbs Industries\\nAvailable in 40 Custom Vinyl Colors\\nRust Resistant Metal Base for Unmatched Durability\\nExtra-Wide Seat for Client Comfort\\nExtra-Wide Armrests\\nEmbellished w/ Tufted Vinyl\\n \\n\\n\\nRead Reviews\\n',\n",
       " '\\nDescription\\n\\n\\nThe Pibbs 3169 Luca Dryer Chair is manufactured in the U.S.A. and is exclusively available at Buy-Rite Beauty! Available in 40 custom vinyl colors, this dryer chair features an extra-wide & durable seat for maximum client comfort, a rust resistant base, and upholstered metal armrests combining comfort and style. The back-dryer cut-out fits most salon dryers, and works perfectly with the X-tra Hot Dryer from Buy-Rite Beauty. This dryer chair is part of the exclusive to Buy-Rite Luca Collection by Pibbs, and matches perfectly with the Luca Styling Chair and Luca Backwash Unit. The Pibbs 3169 Luca Dryer Chair provides a luxurious experience for clients while adding a chic, modern touch to any salon.\\nFeatures:\\n\\nMade in the U.S.A. by Pibbs Industries\\nExclusively Available at Buy-Rite Beauty\\nAvailable in 40 Custom Vinyl Colors\\nUpholstered Metal Armrests combining Comfort and Style\\nExtra-Wide & Durable Seat for Maximum Client Comfort\\xa0\\nGreat Durability & Longevity w/ Rust Resistant Metal Base\\nBack Dryer Cut-Out Fits Most Salon Dryers\\n \\n\\n\\nRead Reviews\\n',\n",
       " '\\nDescription\\n\\n\\nGive your salon the seating update it deserves with the Pibbs 3269 Ragusa Dryer Chair, Made in the U.S.A. by Pibbs Industries! Available in 40 Custom Vinyl Colors, the Pibbs 3269 Ragusa Dryer Chair combines style and durability. The Pibbs 3269 Ragusa Dryer Chair features a black metal base & Dryer Box that fits most salon box dryers, a modern low-cut back cushion, and round upholstered metal arms combining comfort and modern style. As part of the Pibbs Ragusa Collection, the Pibbs 3269 Ragusa Dryer Chair matches perfectly with the Ragusa Styling Chair, and adds a chic, modern look to any salon.\\nFeatures:\\n\\nMade 100% in the U.S.A. by Pibbs Industries\\xa0\\nPadded & Upholstered Seat & Back Cushions\\nBlack Metal Base & Dryer Box built to fit Most Salon Box Dryers\\nRound Upholstered Metal Arms combining Comfort and Style\\nAvailable in 40 Custom Vinyl Colors\\n \\n\\n\\nRead Reviews\\n',\n",
       " '\\nDescription\\n\\n\\nThe Pibbs 3270 Ragusa Kids Styling Chair sits atop a solid steel/metal frame, has thick padded seat cushion, padded arm rests, and a U footrest for added support for your younger clients. The PIBBS 3270 includes an upholstered seat cushion and 23” round hydraulic base for great support. This styling chair is designed for kids adjusting from 24” to 31”. It comes equipped with a black safety strap that will come in handy for the often-fidgety child. The Pibbs 3270 Ragusa Kid’s Styling Chair is available in a variety of vinyl colors that is sure to blend in with the rest of your salon chairs. ** Available in Two-Tone as pictured for an upcharge, please contact your Buy-Rite Sales\\xa0 Consultant for more information**\\n\\xa0\\nFeatures:\\n\\nMade by Pibbs in the U.S.A.\\xa0\\nAvailable in a Variety of Different Vinyl Colors\\xa0\\nAdjusts from 24\" to 31\" High\\xa0\\nEquipped with a Safety Strap\\xa0\\n2 Year Warranty on Hydraulic Pump\\nAvailable in Two-Tone (as shown) for an Upcharge\\n \\n\\n\\nRead Reviews\\n',\n",
       " '\\nDescription\\n\\n\\nThe Pibbs 3292 Ragusa Desk Chair is manufactured in the U.S.A. by Pibbs Industries and is designed with comfort, durability, and world-class style in mind. Available in 40 custom vinyl colors, the Pibbs 3292 Ragusa Desk Chair features a padded extra-wide seat and back for maximum comfort, a modern low-cut back cushion, a 5-star adjustable lift base on casters, and stylish curved metal arms with upholstered armrests. As part of the Pibbs Ragusa Collection, the Pibbs 3292 Ragusa Desk Chair matches perfectly with the Pibbs 3206 Ragusa Styling Chair and the Pibbs 3269 Ragusa Dryer Chair, and adds a chic, modern look to any salon.\\nFeatures:\\n\\nSalon Desk & Manicure Chair\\nPadded & Upholstered Seat & Back\\nCurved Metal Arms w/ Upholstered Armrests\\n5-Star Adjustable Lift Base\\nAvailable in 40 Custom Vinyl Colors\\n5 Durable Casters\\nContemporary Style\\nPibbs Ragusa Collection\\n \\n\\n\\nRead Reviews\\n',\n",
       " '\\nDescription\\n\\n\\nThe Pibbs 3447 Cosmo Threading Chair is made in the U.S.A. by Pibbs Industries and is available in 40 custom vinyl colors. This threading chair has lever-controlled reclining mobility with an extra-large 27” hydraulic barber base, making it extremely versatile and stable. The Cosmo Threading Chair features an adjustable and removable headrest, comfortably padded seat, back, and arms, and a small gap in the seat back making cleaning convenient and easy for the stylist. This professional threading chair is extremely versatile and can be used for cutting, threading, shampooing, waxing, make up application and more! As part of the Pibbs Cosmo Collection, the Pibbs 3447 Cosmo Threading Chair matches perfectly with the Pibbs 5234 Cosmo Backwash Unit, Pibbs 3406 Cosmo Styling Chair, Pibbs 3446 Cosmo All Purpose Chair, Pibbs 3492 Cosmo Desk Chair, Pibbs 3491 Cosmo Barber Chair, and the Pibbs 3469 Cosmo Dryer Chair. The Pibbs 3447 Cosmo Threading Chair combines extreme comfort and modern design, making a perfect addition to any salon.\\nFeatures:\\n\\nMade in the U.S.A.\\nProfessional Threading Chair\\nExtremely Versatile w/ Many Uses in the Salon or Spa\\nAdjustable & Removable Headrest\\nPadded & Upholstered Seat, Back, & Arms\\nLever-Controlled Reclining Back\\nSmall Gap in Seat for Easy Clean\\nExtra-Large 27” Hydraulic Barber Base\\nAvailable in 40 Custom Vinyl Colors\\nDesign Continuity w/ Pibbs Cosmo Collection\\n \\n\\n\\nRead Reviews\\n',\n",
       " '\\nDescription\\n\\n\\nThe Pibbs 3570 Sessa Kid’s Styling Chair has a classic clean design and is made in the U.S.A. with high quality craftsmanship. Designed with ergonomic chrome arm rests, it also has a very wide seat that will fit kids of all sizes. It also comes equipped with a black safety strap that will come in handy for the often-fidgety child. If you are looking for a high-quality styling chair that is great looking at an affordable price this is the chair!\\nFeautures:\\n\\nMade by Pibbs in the U.S.A.\\nAvailable in a Variety of Different Vinyl Colors\\xa0\\nEquipped with a Safety Strap\\nExtra Wide Seat for Kids of All Sizes\\n2 Year Warranty on Hydraulic Pump\\n \\n\\n\\nRead Reviews\\n',\n",
       " '\\nDescription\\n\\n\\nThe Pibbs Messina 3670 Kid’s Styling Chair is made by Pibbs in the U.S.A. This luxe chair sits atop a solid steel/metal frame with a thick durable padded seat cushion, black molded urethane arms, and a U footrest for added comfort for your younger clients. This chair comes equipped with a 23” round hydraulic base for great stability. This styling chair is designed for kids adjusting from 24” to 31”. It also comes equipped with a black safety strap that will come in handy for the often-fidgety child. The Pibbs Messina 3670 Kid’s Styling Chair is available in a variety of colors that is sure to blend in wit the rest of your salon chairs. **Available in Two-Toned as pictured for an upcharge. Please contact your Buy-Rite Sales Consultant for more information**\\nFeatures:\\n\\nMade by Pibbs in the U.S.A.\\nAvailabe in a Variety of Different Vinyl Colors\\nAdjusts from 24\" to 31\" High\\xa0\\nEquipped with a Safety Strap\\n2 Year Warranty on Hydraulic Pump\\xa0\\nAvailable in Two-Tone (as shown) for an Up-Charge\\xa0\\n \\n\\n\\nRead Reviews\\n',\n",
       " '\\nDescription\\n\\n\\nThe Pibbs 3770 Pisa Kid’s Styling Chair is made by Pibbs in the U.S.A. and is made just for kids! This styling chair is a modern European design made in the USA with high quality craftsmanship. Designed with sleek chrome arm rests, a U footrest, and a black safety strap designed with comfort for even your youngest client. If you are looking for a high-quality styling chair that is great looking at an affordable price this is the chair!\\nFeatures:\\n\\nMade by Pibbs in the U.S.A.\\nAvailable in a Variety of Different Vinyl Colors\\xa0\\nEquipped with a Safety Strap\\xa0\\n2 Year Warranty on Hydraulic Pump\\xa0\\n \\n\\n\\nRead Reviews\\n',\n",
       " '\\nDescription\\n\\n\\nThe Pibbs 4347 Lambada Threading Chair is made in the U.S.A. by Pibbs Industries and is available in 40 custom vinyl colors. This threading chair has lever-controlled reclining mobility with an extra-large 27” hydraulic barber base, making it extremely durable and stable. The Pibbs 4347 Lambada Threading Chair features a padded and upholstered headrest, seat, and back for maximum client comfort, contemporary black molded urethane arms, an extra-wide seat suitable for the largest of clients, and a U-bar footrest. This professional threading chair is very versatile and cane be used in any salon or spa for threading, cutting, shampooing, make-up, waxing & more! As part of the Pibbs Lambada Collection, the Pibbs 4347 Lambada Threading Chair matches perfectly with the Pibbs 5243L Lambada Backwash with Legrest, Pibbs 5243 Lambada Backwash Unit, Pibbs 4306 Lambada Styling Chair, and the Pibbs 4346 Lambada All-Purpose Chair, and adds a contemporary, clean look to any salon.\\n\\xa0\\nFeatures:\\n\\nMade in the U.S.A.\\nProfessional Threading Chair\\nExtremely Versatile w/ Many Uses in Any Salon or Spa\\nAvailable in 40 Custom Vinyl Colors\\nAdjustable & Removable Upholstered Headrest\\nPadded & Upholstered Seat & Back\\nBlack Molded Urethane Arms\\nExtra-Wide Seat for Client Comfort\\nLever-Controlled Reclining Back\\nExtra-Large 27” Hydraulic Barber Base\\nDesign Continuity w/ Pibbs Lambada Collection\\n \\n\\n\\nRead Reviews\\n',\n",
       " \"\\nDescription\\n\\n\\nThe Pibbs 4370 Lambada Kid's Styling Chair is a great chair for younger clients. The Lambada Styling Chair features thick padded upholstered seat and back cushions, black molded urethane arms, and a U footrest for added comfort. Worried about those little ones moving? The Lambada comes with a black waist strap for added safety. The Pibbs 4370 Lambada Kid’s Styling Chair is available in a variety of Vinyl Colors allowing you to pick the right fit for your salon.\\nFeatures:\\n\\nMade by Pibbs in the U.S.A.\\nAvailable in a Variety of Different Vinyl Colors\\nEquipped with a Safety Strap\\n2 Year Wannaty on Hydraulic Pump\\xa0\\n \\n\\n\\nRead Reviews\\n\",\n",
       " '\\nDescription\\n\\n\\nThe Pibbs 4506 Bari Styling Chair is manufactured in the U.S.A. by Pibbs Industries and is available in 40 Custom Vinyl Colors! The Pibbs 4506 Bari Styling Chair features a cushioned extra-wide seat, a modern low-cut back cushion, a heavy-duty hydraulic pump, two Durable Footrest options, and rounded chrome armrests that give this chair a modern and stylish accent. The Pibbs 4506 Bari Styling Chair is designed with durability, client comfort, and world-class style in mind, while adding a chic, modern touch to any salon.\\xa0\\nFeatures:\\n\\nMade 100% in the U.S.A. by Pibbs Industries\\nAvailable in 40 Custom Vinyl Colors\\nRounded Chrome Armrests\\xa0\\nHeavy-Duty Hydraulic Pump w/ Multiple Options Available\\nExtra-Wide & Durable Seat for Maximum Client Comfort\\nModern Low-Cut\\xa0 Back Cushion\\n \\n\\n\\nRead Reviews\\n',\n",
       " '\\nDescription\\n\\n\\nThe Pibbs 5222 Fondi Backwash Unit is manufactured in the U.S.A. and is a perfect combination of elegance and functionality. Available in 40 Custom Vinyl Colors, this shampoo unit features an Extra-Large Tilting Italian Porcelain Shampoo Bowl, an Adjustable Extra-Wide Sliding Seat with Extra-Wide Armrests designed for client comfort, and is embellished with Sumptuous Tufted Vinyl. The Pibbs 5222 Fondi Backwash Unit is part of the Pibbs Fondi Family, which includes a matching Styling Chair and Dryer Chair. The Pibbs 5222 Fondi Backwash Unit provides a luxurious experience for clients while adding an elegant, classic touch to any salon.\\nFeatures:\\n\\nMade in the U.S.A. by Pibbs Industries\\nAvailable in 40 Custom Vinyl Colors\\nExtra Wide Seat for Client Comfort\\xa0\\nAdjustable Sliding Seat w/ Extra Wide Armrests\\nLarge Tilting Italian Porcelain Shampoo Bowl\\xa0\\nEmbellished w/ Tufted Vinyl for Beautiful Classic Style\\n \\n\\n\\nRead Reviews\\n',\n",
       " '\\nDescription\\n\\n\\nThe Pibbs 5258 Rosa Backwash Unit is Made 100% in the U.S.A, and comes equipped with an Italian Porcelain Shampoo bowl and fixtures, available in either black or white. The Rosa’s unique adjustable sliding seat and tilting bowl can accommodate guests of various heights, and ensure maximum comfort while they wash. The bright chrome armrests give the Rosa a distinctive and polished look, and this chair comes in your choice of 40 vibrant Pibbs vinyl colors! For design continuity, we also carry the Rosa Dryer Chair, Rosa Styling Chair and the Rosa Desk Chair! Call your Buy-Rite Sales Representative to order yours today! (Two-Tone color combinations available as pictured)\\nFeatures:\\n\\nMade 100% in the U.S.A.\\nShampoo Backwash Unit w/ Porcelain Shampoo Bowl\\nAdjustable Sliding Seat &\\xa0Bright Chrome Armrests\\nTilting Porcelain Shampoo Bowl w/ Hardware (Available in Black or White)\\nAvailable in 40 Vibrant Vinyl Colors (See Chart)\\nMatching Styling Chair, Dryer Chair & reception Seating Available\\n \\n\\n\\nRead Reviews\\n',\n",
       " '\\nDescription\\n\\n\\nThe Pibbs 5447 Loop Threading Chair is made in the U.S.A. by Pibbs Industries and is available in 40 custom vinyl colors. This threading chair has lever-controlled reclining mobility with an extra-large 27” hydraulic barber base offering great versatility & stability. The Loop Threading Chair features an adjustable and removable headrest, a comfortably padded and upholstered seat, back, and arms, and a small gap in the seat back making cleaning convenient and easy for the stylist. This professional all-purpose chair is extremely versatile and can be used for threading, cutting, shampooing, waxing, make up application and more! As part of the Pibbs Collection, the Pibbs 5447 Loop threading chair matches perfectly with the Pibbs 5274L Loop Backwash Unit w/ Legrest, Pibbs 5274 Loop Backwash Unit, Pibbs 5446 Loop All Purpose Chair, Pibbs 5406 Loop Styling Chair, and Pibbs 5492 Loop Desk Chair adding a contemporary, clean look to any salon.\\nFeatures:\\n\\nMade in the U.S.A.\\nProfessional All-Purpose Threading Chair\\nExtremely Versatile w/ Many Uses in Any Salon or Spa\\nAdjustable & Removable Headrest\\nPadded & Upholstered Seat, Back, & Arms\\nLever-Controlled Reclining Back\\nSmall Gap for Easy Clean\\nExtra-Large 27” Hydraulic Barber Base\\nAvailable in 40 Custom Vinyl Colors\\nDesign Continuity w/ Pibbs Loop Threading Chair\\n \\n\\n\\nRead Reviews\\n',\n",
       " '\\nDescription\\n\\n\\nThe Pibbs 5470 Loops Kid’s Styling Chair is a modern European inspired design made in the U.S.A with extraordinary craftsmanship. This chair has been constructed with ergonomic black molded urethane armrests to add comfort and flair. The Loop Kid’s Styling Chair also features thick padded upholstered seat and back cushions, and a U footrest. It comes equipped with a black safety strap that will come in handy for the often-fidgety child. If you are looking for a high-quality styling chair that is great looking at an affordable price this is the chair! You can also select from a variety of Vinyl Colors to make this chair blend in the your existing salon’s color scheme.\\n\\xa0\\nFeatures:\\n\\nMade by Pibbs in the U.S.A.\\nAvailable in a Variety of Different Vinyl Colors\\xa0\\nEquipped with a Safety Strap\\xa0\\n2 Year Warranty on Hydraulic Pump\\n\\n\\xa0\\n\\xa0 \\n\\n\\nRead Reviews\\n',\n",
       " '\\nDescription\\n\\n\\nThe 5892 Rosa Desk Chair by Pibbs is made 100% in the USA, and guarantees the utmost quality & craftsmanship. Perfect for any salon or spa needing a seating upgrade, the Rosa comes on an adjustable-height 5-star base, with casters and a swivel seat. This seat’s padded and upholstered seat and back cushion and bright chrome armrests make this chair as comfortable as it is stylish, and the Rosa comes in your choice of 40 vibrant Pibbs vinyl colors. Two-toned options are also available, so call your Buy-Rite sales representative to ask about custom coloring options today! We also carry the Rosa Backwash Unit, Rosa Dryer Chair, and Rosa Styling Chair to furnish your entire salon! * Expedited shipping available please contact your Buy-Rite Sales Rep!\\xa0\\nFeatures:\\n\\nMade 100% in the USA\\nSalon or Spa Reception & Desk Chair\\n5-Star Adjustable Height Base on Casters\\nPadded & Upholstered Seat & Back\\nBright Chrome Armrests\\nAvailable in (40) Vinyl Color Choices\\nTwo-Tone Color Options Also Available\\xa0\\n \\n\\n\\nRead Reviews\\n',\n",
       " '\\nDescription\\n\\n\\nThe Pibbs Wave Isola Double Sided Station will add style and functionality to any salon or spa. Available in a black or silver frame, the 2 extra-large, full-length mirrors are finished with a vibrant polished wave design. The wood styling station is available in black, white and silver and features durable metal bar pulls, 4 tool holders – 2 with wire access to keep the drawer closed while using your tools and (8) spacious storgae cabinets. The Pibbs Wave Isola Double Sided Station has a small footprint with plenty of storage space and is designed to be used by two stylists at the same time. If you are looking for a versatile styling station to help save space that offers great design and functionality then you have found the one!! We also offer the Pibbs Wave Salon Mirror and the Pibbs Wave Salon Mirror & Storage Server for design continuity across your whole salon.\\xa0\\xa0\\nFeatures:\\n\\nFrame Available in Silver or Black\\nStation Server Available in Black, White & Silver\\nPerfect for Use by Two Stylists\\n2 Extra-Large, Full-Length Mirrors\\nModern Frames w/ Wave Design\\nDurable Metal Bar Drawer Pulls\\nPull-Out Tool Holders w/ Wire Access\\nSmall Footprint w/ Plenty of Storage\\nFashionable, Polished Style\\n \\n\\n\\nRead Reviews\\n',\n",
       " '\\nDescription\\n\\n\\nThe Pibbs 847 Karim Threading Chair is made by Pibbs Industries and is available in 40 custom vinyl colors. This threading chair has lever-controlled reclining mobility with an extra-large 27” hydraulic barber base, making it extremely versatile and stable. The Karim Threading Chair features an adjustable and removable headrest, comfortably padded seat & back and an open design making cleaning convenient and easy for the stylist. This professional threading chair is extremely versatile and can be used for cutting, threading, shampooing, waxing, make-up application and more! The Pibbs 847 Karim Threading Chair combines extreme comfort and classic design, making it the perfect addition to any salon or spa!\\nFeatures:\\n\\nProfessional Threading Chair\\nExtremely Versatile w/ Many Uses in the Salon & Spa\\nAdjustable & Removable Headrest\\nComfortably Padded & Upholstered Seat & Back\\nLever-Controlled Reclining Back\\nPerfect Open Design for Quick & Easy Clean\\nExtra-Large 27” Hydraulic Barber Base\\nAvailable in 40 Custom Vinyl Colors\\n \\n\\n\\nRead Reviews\\n',\n",
       " '\\nDescription\\n\\n\\nThe Pibbs Classic Isola Double Sided Station will add style and functionality to any salon or spa. Available in a black or silver frame, the 2 extra-large, full-length mirrors are finished with a vibrant classical design. The wood styling station is available in black, white, or silver and features durable metal bar pulls, 4 tool holders – 2 with wire access to keep the drawer closed while using your tools and (8) spacious storgae cabinets. The Pibbs Classic Isola Double Sided Station has a small footprint with plenty of storage space and is designed to be used by two stylists at the same time. If you are looking for a versatile styling station to help save space that offers great design and functionality then you have found the one!! We also offer the Pibbs Classic Salon Mirror and the Pibbs Classic Salon Mirror & Storage Server for design continuity across your whole salon.\\xa0\\xa0\\nFeatures:\\n\\nFrame Available in Silver or Black\\nStation Server Available in Black, White & Silver\\nPerfect for Use by Two Stylists at the Same Time\\n2 Extra-Large, Full-Length Mirrors\\nModern Mirror Frames w/ Classical Design\\nDurable Metal Bar Drawer Pulls\\nPull-Out Tool Holders w/ Wire Access\\nSmall Footprint w/ Plenty of Storage\\n \\n\\n\\nRead Reviews\\n',\n",
       " '\\nDescription\\n\\n\\nThe Pibbs Lumina LED Salon Mirror adds a clean & modern look to any salon, spa or barbershop. This full-length, extra-large mirror comes with a built-in LED lit frame with an easy and accessible on/off button. This luxurious salon mirror includes an embedded dimmable LED light that will bring refined glamour to your station and will give your client the opulent experience they deserve! With clean lines and a modern style, the Pibbs Lumina LED Salon Mirror is sure to elevate your styling station to the next level! We also offer this LED Salon Mirror in our Pibbs Lumina LED Salon Mirror & Storage Server.\\nFeatures:\\n\\nExtra-Large, Full-Length Mirror\\nBuilt-In Dimmable LED Light\\xa0\\nEasy & Accessible On/Off Button\\nPolished, Modern Style\\nShips Assembled & Ready to Hang\\n \\n\\n\\nRead Reviews\\n',\n",
       " '\\nDescription\\n\\n\\nThe Pibbs 970 Cloud Nine Kid’s Styling Chair is by in the U.S.A. by Pibbs Industries and in available in a variety of different Vinyl Colors. The chair sits atop a solid steel/metal frame, thick durable padding and a U footrest for added support for your younger clients. The PIBBS 970 includes pleated upholstered seat cushions and 23” round hydraulic base for great stability. This styling chair is designed for kids adjusting from 24” to 31”. It also comes equipped with a black safety strap that will come in handy for the often-fidgety child. If you are looking for a high-quality styling chair that is great looking at an affordable price this is the chair!\\nFeatures:\\n\\nMade by Pibbs Industries in the U.S.A.\\nAvialable in a Variety of Different Vinyl Colors\\nEquipped with a Safety Strap\\xa0\\n2 Year Warranty on Hydraulic Pump\\xa0\\n \\n\\n\\nRead Reviews\\n',\n",
       " '\\nDescription\\n\\n\\nAlways have a blow dryer, brushes or other tools within reach thanks to the Pibbs ART57H Metal Mayo Utility Tray w/ Appliance Holder. This convenient salon color tray with appliance holder makes it super easy for stylists to access their essential tools as the accessory holder hangs directly below the metal tray. This tray comes on wheels and can be easy moved from station to station throughout the salon. It can be used as a color tray or simply to hold your tools for quick and easy access. It comes on a sturdy five-star chrome base with durable casters and features a steel frame and an aluminum tray top. Stylists of all sizes can use this hair stylist tray since it is fully height adjustable and very easy to lower or raise the tray within seconds.\\xa0* Expedited shipping available please contact your Buy-Rite Sales Rep!Features:\\n\\nComplete with Metal Mayo Tray & Appliance Holder\\nFully Height Adjustable to fit any size Stylist\\nChrome Base & Stand for Great Durability\\nGreat for Hair Coloring Bowls or Chemical Bowls\\nMetal Work Surface - Perfect for Storing Hot Tools\\nDurable Casters for Great Maneuverability\\n \\n\\n\\nRead Reviews\\n',\n",
       " '\\nDescription\\n\\n\\nThe Belvedere Jelly Fish Professional Color Trolley is perfect for hair coloring and chemical treatments! The Jelly Fish Trolley is Italian made with polypropylene material and features silicone speedy wheels for smooth and effortless mobility that any stylist would appreciate. This color trolley comes with 4 bowls, 2 brushes and one disposable aluminum roll and will be a perfect solution for your color treatments. The Jelly Fish comes in two color options; Black & White and both colors are available for quick shipment. This color trolley is a must have for any salon that does a high volume of color and chemical treatments.\\xa0\\nFeatures: \\n\\nItalian Made Color Trolley\\nPerfect for Hair Coloring & Chemical Treatments\\nIncludes 4 Bowls, 2 Brushes & 1 Disposable Aluminum Roll\\nMade of Polypropylene Material\\nSilicon Speedy Wheels\\nTwo Color Options: Black & White\\nAvailable for Quick Shipment\\n \\n\\n\\nRead Reviews\\n',\n",
       " \"\\nDescription\\n\\n\\nWho doesn't love a Vintage Style Chair! The Marcel Professional Barber Chair encompasses all things vintage. This chair is built with top of the line quality, and unmatched detail that takes you down memory lane with it's 50’s-style design. This upscale barber chair is available in over 40 vibrant vinyl colors and features solid steel construction throughout, with a brushed gunmetal finish. The Marcel's durable rounded seat & back cushions feature a unique vintage design, and this chair also has padded armrests and a classic flip-style footrest for maximum comfort. No detail was too small when creating this chair, your clients are sure to notice the comfort and quality the Marcel chair will bring to your barbershop or salon.\\xa0 The Marcel comes equipped with an old-fashioned style hydraulic base and a 3 year warranty on the hydraulic pump. Call your Buy-Rite Sales Representative and get yours today!\\nFeatures:\\n\\nVintage-Style Professional Barber Chair\\nAvailable in over 40 Vibrant Vinyl Colors\\nDurable, Rounded Seat & Back Cushions w/ Vintage Design\\nPadded Armrests &\\xa0Classic Flip-Style Footrest\\nAdjustable & Removable Headrest\\nOld Fashioned Heavy-Duty Hydraulic Base\\nUnique & Classy Design Accents\\nSolid Steel Frame w/ Brushed Gunmetal Finish\\nWeight Capacity 450 Lbs.\\n \\n\\n\\nRead Reviews\\n\",\n",
       " '\\nDescription\\n\\n\\nThe Maxim Styling Station w/ Ledge is 100% Made in the U.S.A. and is built with the utmost craftsmanship found in the salon equipment industry. This free-standing salon styling station ships to you fully assembled and comes complete with a front ledge & 30\" x 28\" mirror. The right side of the Maxim Styling Station features an upper storage cabinet, two utility drawers, a storage cabinet with a slide-out tool panel to accommodate one blow dryer and two curling irons, as well as an extra lower drawer for additional storage! The left side of the station offers even more storage space with two large cabinets. This station is designed with style and functionality in mind, and is sure to suit any salon décor! The Maxim Styling Station is available in your choice of 40 laminate colors with two tone options, so ask your Buy-Rite Beauty Sales representative today!\\nFeatures:\\n\\nMade 100% in the U.S.A.\\nComplete with Front Ledge & Mirror (30\" x 28\")\\nAvailable in 40 Popular Laminates w/ Two-Tone Option\\n(1) Right Side Upper Storage Cabinet\\n(2) Left Side Upper & Lower Storage Cabinets\\nSlide-Out Tool Panel\\n(3) Utility Drawers\\nFull Extension Glides & Brushed Metal Handles\\nShips Fully Assembled\\n \\n\\n\\nRead Reviews\\n',\n",
       " '\\nDescription\\n\\n\\nThe Omni Styling Station w/ Mobile Base is inspired by our legendary Maxim Styling Station but also includes a lower base with hidden wheels for complete mobility. This free-standing styling station features clean, modern lines and ships to you in two fully assembled pieces complete with a 60\" full-length mirror. A stylist working on the Omni Styling Station will be greeted on the right-hand side by an upper storage cabinet, two utility drawers, a slide-out tool panel to accommodate one blow dryer and two curling irons, and a bottom storage drawer! The left side of the station offers even more storage space with two large cabinets. Additionally, the Omni also features hidden wheels on the bottom for easy cleaning and maneuverability throughout your salon or spa. This feature would be a great asset to any cosmetology school looking to quickly transform their space from classroom to hands-on work-space. The Omni Styling Station is available in your choice of 40 laminate colors that are sure to match your specific salon decor\\'! And if you have the need for (2) stylists to operate at (1) station we offer the Omni Double Styling Station w/ Mobile Base.\\nFeatures:\\n\\nMade 100% in the U.S.A.\\nComplete with 60\" Full Length Mirror\\nLower Base w/ Hidden Wheels for Mobility\\nAvailable in 40 Vibrant Laminate Selections\\n(1) Right Side Upper Storage Cabinet\\n(1) Right Side Slide-Out Appliance Drawer\\n(2) Right Side Utility Drawers\\n(1) Right Side Storage Drawer\\n(2) Left Side Storage Cabinets\\nFull Extensions Glides & Brushed Metal Handles\\n \\n\\n\\nRead Reviews\\n',\n",
       " '\\nDescription\\n\\n\\nThe Omni Double Styling Station w/ Mobile Base features clean, modern lines and is double-sided to support two stylists at the same time. This free-standing styling station comes complete with (2) 60\" full-length mirrors and ships to you in two fully assembled pieces for easy installation. Each side of the Omni Double Sided Styling Station is identically equipped with an upper storage cabinet, two utility drawers, a slide-out tool panel to accommodate one blow dryer and two curling irons, as well as one lower drawer for additional storage! This dual sided styling station features hidden wheels on the bottom for easy cleaning & maneuverability throughout your salon. This feature would be a great asset to any cosmetology school looking to create an easy transformation from classroom to hands-on work space. The Omni Double Styling Station is available in your choice of 40 laminate colors to perfectly match your salons look and feel. And if you only have the need for (1) stylist at this station we offer the Omni Styling Station w/ Mobile Base.\\xa0\\nFeatures:\\n\\nMade 100% in the U.S.A.\\nDouble Sided Station Perfect for Two Stylists\\nComplete with (2) 60\" Full Length Mirrors\\nLower Base w/ Hidden Wheels for Great Mobility\\nAvailable in 40 Vibrant Laminate Colors\\nFull Extension Glides & Brushed Metal Handles\\nIdentical Storage on Each Side\\nAppliance Pull out Drawer on Each Side\\n(2) Storage Cabinets on Each Side\\n(2) Utility Drawers on Each Side\\n \\n\\n\\nRead Reviews\\n',\n",
       " '\\nDescription\\n\\n\\nThe Omni Distressed Styling Station is made 100% in the U.S.A. and features a contemporary rustic style with its distressed wood finish. This Styling Station comes complete with a 60\" full-length mirror and ships to you in two fully assembled pieces for a quick and easy installation. A stylist working on the Omni Distressed will be greeted on the right-hand side with an upper storage cabinet, two utility drawers, a slide-out tool panel to accommodate one blow dryer and two curling irons, and an extra lower drawer for additional storage! The left side of this station offers even more storage space with two large cabinets. Additionally, the Omni Distressed also features hidden wheels on the bottom for easy cleaning and maneuverability throughout your salon. This feature would be a great asset to any cosmetology school looking to create easy transformation from classroom to hands-on work space. If you are looking for a durable American made styling station that offers a modern rustic distressed wood finish then you have found the one! And if you have the need for (2) stylings to work at the same station we offer the Omni Distressed Double styling Station w/ Mobile Base.\\xa0\\nFeatures:\\n\\nMade 100% in the U.S.A.\\nRustic Modern Distressed Wood Finish\\xa0\\nAvailable in (2) High-End Distressed Wood Finishes\\nComplete w/ 60\" Full Length Mirror\\nFull Extension Glides & Brushed Metal Handles\\nHidden Wheels for Great Mobility\\n(3) Storage Cabinets\\n(1) Storage Drawer\\n(2) Utility Drawers\\n(1) Rant-Hand Pull Out Appliance Drawer\\n \\n\\n\\nRead Reviews\\n',\n",
       " '\\nDescription\\n\\n\\nThe Omni Distressed Double Styling Station is made 100% in the U.S.A. and features a contemporary rustic style with its distressed wood finish. This Styling Station is double-sided and is designed to accommodate the needs of two stylists working at the same time. The Omni Distressed Double Station comes complete with (2) 60\" full-length mirrors and ships to you in two fully assembled pieces for a quick and easy installation. Each side of this double styling station is identically equipped with an upper storage cabinet, two utility drawers, a slide-out tool panel to accommodate one blow dryer and two curling irons, and an extra lower drawer for additional storage. Additionally, the Omni Distressed Double Station also features hidden wheels on the bottom for easy cleaning and maneuverability throughout your salon. This feature would be a great asset to any cosmetology school looking to create easy transformation from classroom to hands-on work space. If you are looking for a durable American made Double Styling Station that offers a modern rustic distressed wood finish then you have found the one! And if you only have the the need for (1) stylist per station we offer the Omni Distressed Styling station w/ Mobile Base.\\xa0\\nFeatures:\\n\\nMade 100% in the U.S.A.\\nRustic Modern Distressed Wood Finish\\xa0\\nAvailable in (2) High-End Distressed Wood Finishes\\nComplete w/ (2) 60\" Full Length Mirror\\nFull Extension Glides & Brushed Metal Handles\\nHidden Wheels for Great Mobility\\n(2) Storage Cabinets\\n(2) Storage Drawers\\n(4) Utility Drawers\\n(2) Pull Out Appliance Drawers\\n \\n\\n\\nRead Reviews\\n',\n",
       " '\\nDescription\\n\\n\\nThe J&A Empress LX Pedicure Spa is a modern, full featured pedicure spa with stylish lines and durable construction. Delivering a top-of-industry spa experience, the Empress further impresses with its beautiful resin bowl, clean and powerful pipeless Infiniti™ jets, full shiatsu massage, and easy footrest adjustment, wrapped in LED base lighting. The Empress LX pedicure spa has all the bells and whistles that your clients are sure to appreciate and have them coming back!\\xa0\\xa0*Optional Air Ventilation System available by request, please call your Buy-Rite Salon consultant today for more details!\\nFeatures:\\n\\nInfiniti Pipeless Whirlpool\\nAutomatic Seat Recline And Slide\\nAdjustable Foot Rest\\nMovable Arm Rests\\nFull Function Shiatsu Massage\\nMulti-color LED Lighting In Bowl\\nManicure Trays With Cup Holders\\nDual Function Fill-And-Spray Hose\\nLED Lights On Both Sites of Base\\nRemote Control To Personalize Shiatsu Massage Experience\\nOptional Air Ventilation System Available (Additional $150)\\n \\n\\n\\nDownload J&A Empress LX/RX Pedicure Spa Manual \\nDownload J&A Empress LX Specifications \\nRead Reviews\\n',\n",
       " '\\nDescription\\n\\n\\nThe J&A Empress SE Pedicure Spa is a full-featured pedicure spa chair that provides a premier spa experience at an excellent value. This pedicure spa features an elegantly detailed diamond quilted chair top that can be customized in six different leather colors. The sleek base comes in two color options and LED base lighting, along with an exquisite, yet durable resin bowl. The Empress SE is budget-friendly with no compromise to quality, assuring reliable construction and remarkable performance, making it a key piece for any nail salon.\\xa0\\xa0*Optional Air Ventilation System available by request, please call your Buy-Rite Salon consultant today for more details!\\nFeatures:\\n\\nPipeless Infinity Jets\\nAdjustable Foot Rest\\nMovable Arm Rests\\nDurable Resin Bowl\\nFull Function Shiatsu Massage\\nMulticolor LED Lighting In Bowl\\nManicure Trays With Cup Holders\\nDual Function Fill-And-Spray Hose\\nLED Lights at Base\\nRemote Control To Personalize Shiatsu Massage Experience\\nChair Colors: Black, Brick, Burgundy, Cappuccino, Chocolate And Mocha\\nBase & Bowl Colors: White With Silver Trim And Black Resin Bowl, And Bone With Brown Trim And Gold Resin Bowl\\nOptional Air Ventilation System Available (Additional $150)\\n \\n\\n\\nDownload J&A Empress SE Pedicure Spa User Manual\\nDownload J&A Empress SE Pedicure Spa Specifications\\nRead Reviews\\n',\n",
       " '\\nDescription\\n\\n\\nThe J&A Lenox LX Pedicure Spa w/ Glass Bowl marks a new generation of luxury pedicure spa chairs that combine functionality and comfort. This pedicure spa features an ornate glass bowl that comes in three different color options, equipped with a durable infiniti pipeless whirlpool. The Lenox LX also features a built-in technician remote that conveniently adjusts chair functions and positions at the push of a button. This pedicure chair comes complete with pivot arm rests and the chair top features luxurious shiatsu massage and reclines with ease for ultimate comfort and relaxation.\\xa0*Optional Air Ventilation System available by request, please call your Buy-Rite Salon consultant today for more details!\\nFeatures:\\n\\nInfiniti Pipeless Whirlpool\\nPower Recline And Slide\\nFull-Body Shiatsu Massage\\nDual Function Fill-And-Spray Hose\\n10-inch Adjustable Foot Rest\\nBuilt-in Technician Remote\\nPivot Arm Rests\\nMulti-color LED Lighting In Bowl\\nAdjustable Manicure Trays With Cup Holders\\nReinforced Fiberglass, Acetone Resistant Base\\nOptional Air Ventilation System Available (Additional $150)\\n \\n\\n\\nDownload J&A Lenox LX Pedicure Spa Manual \\nRead Reviews\\n',\n",
       " '\\nDescription\\n\\n\\nThe J&A Lenox M Pedicure Chair is the epitome of luxury and style delivering a full menu of posh amenities and well-thought-out features. This exquisite Pedicure Spa is quintessential for upscale day spas and resorts that are looking for the highest level of luxury. This pedicure spa is an absolute dream with its new-age and modern design and relaxing Shiatsu massage controlled at your fingertips. The Lenox M Pedicure chair features beautiful Hard-Roc tempered glass side trays and pedicure bowls that add elegance and beauty. The glass pedicure bowl and side trays are also stain, scratch and crack resistant offering great durability even during heavy use. This elegant pedicure chair swivels for easy client access and features a convenient front control panel, adjustable foot rest, fold away arm rest and soft color changing led shower head. If you are looking for a Pedicure chair that offers the highest level of comfort and relaxation for your clients than the Lenox M is the chair for you!\\nFeatures:\\n\\nInfiniti Pipeless Whirlpool\\nSwivel Chair For Easy Client Access\\nFull Function Shiatsu Massage\\nBuilt-in Massage Remote On Arm\\nAdjustable Foot Rest\\nChair Sits On Metal Frame For Maximum Support\\nHard-Roc Tempered Glass Side Trays & Bowls\\nChrome Single-Hand Faucet With Dual-Function Sprayer\\nChair Colors: Eclipse (Black), Bordeaux (Burgundy), Espresso (Chocolate Brown) and Palomino (Dark Beige)\\nBase Colors: Sahara Gold, Midnight Black, Pristine White and Royal Blue\\nGlass Bowl Colors: Black Nickel, Champagne Gold and Crystal Reflections\\n \\n\\n\\nDownload Lenox M Specifications\\nRead Reviews\\n',\n",
       " '\\nDescription\\n\\n\\nThe J&A Petra GX Pedicure Spa with Glass Bowl is an exquisite combination of both form and function along with first-string engineering, making this pedicure spa a dependable and striking piece for any salon. The Petra GX features a beautifully detailed diamond quilted chair top, a modern base with a glass bowl and sleek cherry wood arms with extending manicure trays and cup holders. This pedicure spa stands out among most with a modern USB charging port feature so that your clients can charge their electronics while enjoying their service, along side a relaxing remote controlled shiatsu massage.\\nFeatures:\\n\\nInfiniti Pipeless Whirlpool\\nPower Recline And Slide\\nAdjustable Foot Rest\\nBuilt-in USB Charging Port\\nFull Function Shiatsu Massage\\nMulticolor LED Lighting In Bowl\\nManicure Trays With Cup Holders\\nDual Function Sprayer – 2 Spray Settings\\nRemote Control To Personalize Shiatsu Massage Experience\\nSide Tray with Cup Holder\\n \\n\\n\\nDownload J&A Petra GX Pedicure Spa Manual \\nRead Reviews\\n',\n",
       " '\\nDescription\\n\\n\\nThe J&A Cookie Technician Stool may have a contemporary flair to its design, but it lacks nothing in the comfort department. This technician stool features an extra firm seat and back cushion perfectly contoured for correct support with high density inner foam and a soft leatherette upholstery that comes in six different color options. The Cookie technician stool also boasts a durable gas lift system that is available in a low version to be used with Pedicure chairs and a high version to be used at the Manicure Table. The Cookie Tech stool also features silent easy roll polyurethane casters, an adjustable height lever, and a metal star mirror finish base. This technician stool offers great design continuity and versatility in that it is available in two heights to be used for Pedicure & Manicure.\\nFeatures:\\n\\nExtremely Comfortable Technician Stool\\nFirm Contoured Seat & Back Cushion\\nHigh Density Inner Foam\\nSoft Upholstery Available in 6 Vinyl colors\\nAvailable with High or Low Adjustable Lift\\nSilent Easy Roll Caster Wheels\\n \\n\\n\\nRead Reviews\\n',\n",
       " '\\nDescription\\n\\n\\nThe J&A M Technician Stool is an extremely comfortable technician stool that is available in two heights to be used with both Pedicure Chairs and Manicure Tables. This tech stool if offered with a low gas cylinder that sits the chair at the perfect height for use with Pedicure chairs and it is also offered with a high gas cylinder that is perfect for use at a Manicure Table or Reception Desk. The M Technician stool is available in 4 vibrant vinyl colors and the seat and back cushions are both firm and extra plush to offer great back support and comfort. This tech stool also features a durable metal base with easy roll industrial strength casters that are designed for great mobility. If you are looking for a technician stool that is versatile and extremely comfortable than this is the one for you!\\nFeatures:\\n\\nExtremely Comfortable Spa Technician Stool\\nAvailable in 4 Vibrant Vinyl Colors\\nDurable Metal Base & Industrial Caster\\nHigh Density Foam for Great Elasticity & Comfort\\nAvailable with Low & High Gas Cylinders\\nModern Design w/ Classic Comfort\\n \\n\\n\\nRead Reviews\\n',\n",
       " '\\nDescription\\n\\n\\nThe Pibbs 3206 Ragusa Styling Chair is manufactured in the U.S.A. by Pibbs Industries and is designed with client comfort, durability, and world-class style in mind. Available in 40 Custom vinyl colors, the Pibbs 3206 Ragusa Styling Chair features a cushioned Extra-Wide Seat for maximum client comfort, a Heavy-Duty hydraulic pump for easy adjustment, two durable footrest options, a modern low-cut back cushion, and round upholstered metal arms. Additionally, the Extra-Wide Seat features a gap between the seat bottom and seat back, facilitating an easier cleaning process for the stylist, while providing extra space for your larger clientele. As part of the Pibbs Ragusa Collection, the Pibbs 3206 Ragusa Styling Chair matches perfectly with the Ragusa Dryer Chair, and adds a chic, modern look to any salon.\\nFeatures:\\n\\nMade in the U.S.A. by Pibbs Industries\\nAvailable in 40 Custom Vinyl Colors\\nRound Upholstered Metal Arms combining Comfort and Style\\nExtra-Wide Durable Seat for Maximum Client Comfort\\nHeavy-Duty Hydraulic Pump w/ Multiple Options\\nTwo Footrest Options\\nGap for Easy Cleaning Process\\n \\n\\n\\nRead Reviews\\n',\n",
       " '\\nDescription\\n\\n\\nThe Pibbs 3446 Cosmo All Purpose Chair is made in the U.S.A. and is available in 40 vibrant vinyl color options. This American-made all-purpose chair is designed specifically with client comfort in mind, and includes an extra-wide seat with thick padding for additional support. The Cosmo All Purpose Chair features a U-bar footrest, a sturdy 24” deluxe round hydraulic base, a convenient lever-controlled back reclining mechanism, and a padded and upholstered seat, back, and armrest. The modern European design and style of the Pibbs 3446 Cosmo All Purpose Chair combines a modern look with unmatched comfort, adding a clean, contemporary look to any salon or barbershop. As part of the Pibbs Cosmo Collection, the Pibbs 3446 Cosmo All Purpose Chair matches perfectly with the Pibbs 3447 Cosmo Threading Chair, Pibbs 3406 Cosmo Styling Chair, Pibbs 5234 Cosmo Backwash Unit, Pibbs 3469 Cosmo Dryer Chair, Pibbs 3492 Cosmo Desk Chair, and Pibbs 3491 Cosmo Barber Chair.\\nFeatures:\\n\\nMade in the U.S.A.\\nAll Purpose Styling Chair\\nPadded & Upholstered Seat & Back\\nExtra-Wide Seat for Client Comfort\\nModern European Design & Style\\nLever-Controlled Back Reclining Mechanism\\n24” Deluxe Round Hydraulic Base\\nAvailable in 40 Custom Vinyl Colors\\nDesign Continuity w/ Pibbs Cosmo Collection\\n \\n\\n\\nRead Reviews\\n',\n",
       " '\\nDescription\\n\\n\\nThe Pibbs 5221 Matera Backwash Unit is manufactured in the U.S.A. and is a perfect combination of style and functionality. Available in 40 Custom Vinyl Colors, this shampoo unit features an Extra-Large Tilting Italian Porcelain Shampoo Bowl, an Adjustable Extra-Wide Sliding Seat with Extra-Wide Armrests designed for client comfort, and is embellished with Chic Quilted Vinyl on the arms & backrest. The Pibbs 5221 Matera Backwash Unit is part of the Pibbs Matera Family, which includes a matching Matera Styling Chair. The Pibbs 5221 Matera Backwash Unit provides a luxurious experience for clients while adding a chic, stylish touch to any salon.\\nFeatures:\\n\\nMade in the U.S.A. by Pibbs Industries\\nAvailable in 40 Custom Vinyl Colors\\nExtra-Wide Adjustable Sliding Seat w/ Extra-Wide Armrests\\nLarge Tilting Italian Porcelain Shampoo Bowl\\xa0\\nEmbellished w/ Quilted Vinyl for Beautiful Style\\n \\n\\n\\nRead Reviews\\n',\n",
       " '\\nDescription\\n\\n\\nThe Pibbs 5231 Luca Backwash Unit is manufactured in the U.S.A. and is exclusively available at Buy-Rite Beauty! Available in 40 Custom Vinyl Colors and designed with client comfort in mind, this backwash unit features an Extra-Wide Adjustable Sliding Seat, a Tilting Italian Porcelain Bowl, a Single Handle Italian Fixture, and Upholstered Metal Armrests combining comfort and style. The Pibbs 5231 Luca Backwash Unit sits atop a beautifully finished metal base that offers superior support and durability. This backwash is part of the Luca Collection by Pibbs that is exclusively available at Buy-Rite Beauty and matches perfectly with the Luca Styling Chair and Luca Dryer Chair. The Pibbs 5231 Luca Backwash Unit provides a luxurious experience for clients while adding a clean & modern touch to any salon.\\nFeatures:\\n\\nMade in the U.S.A. by Pibbs Industries\\nExclusively Available at Buy-Rite Beauty\\nAvailable in 40 Custom Vinyl Colors\\nUpholstered Metal Armrests combining Comfort and Style\\nExtra-Wide Adjustable Sliding Seat for Maximum Client Comfort\\nExtra-Large Tilting Italian Porcelain Bowl\\n \\n\\n\\nRead Reviews\\n',\n",
       " '\\nDescription\\n\\n\\nThe Pibbs Diamond Salon Mirror is a gorgeous addition to any modern salon or spa. This salon mirror station features an extra-large full-length mirror, making your client the star of the show, and it is complemented by a frame available in 5 sparkling color options – silver, black, espresso, gold, or white. The modern design & style of the Pibbs Diamond Salon Mirror is the perfect addition to any salon or spa, and it provides the “perfect picture” frame for your clients to feel like a superstar! I fyou like this design, check out the Pibbs Diamond Salon Mirror & Storage Server.\\xa0\\nFeatures:\\n\\nFrame Available in 5 Sparkling Custom Colors\\nExtra-Large Full-Length Mirror\\nChic, Modern Style\\nShipped Fully Assembled & Ready to Install\\nOptional Glass Shelf Available\\xa0\\n \\n\\n\\nRead Reviews\\n',\n",
       " '\\nDescription\\n\\n\\nThe Pibbs Diamond Salon Mirror & Storage Server is a beautiful floating styling station that adds a unique, clean look to any salon or spa. This salon mirror station features a chic sparkling mirror frame that is available in silver, black, espresso, gold, or white, and the spacious server is available in black or white. The Pibbs Diamond Salon Mirror & Storage Server also features durable metal bar pulls, an extra-large full-length mirror, one tool holder with wire access to keep the drawer closed while using your tools, 1 utility drawer, 2 spacious storage cabinets on the right side, and 2 large storage cabinets on the left side. The Pibbs Diamond Salon Mirror & Storage Server has a small footprint with plenty of space for products and storage, and is a beautiful addition to any upscale salon or spa. We also offer the Pibbs Diamond Salon Mirror \\xa0for design continuity.\\nFeatures:\\n\\nFrame Available in 5 Sparkling Colors\\nServer Available in Black or White\\nPull-Out Tool Holder w/ Wire Access\\n2 Large Storage Cabinets on Left Side\\n1 Tool Holder on Right Side\\n1 Utility Drawer on Right Side\\n2 Spacious Storage Cabinets on Right Side\\nExtra-Large Full-Length Mirror\\nSmall Footprint w/ Plenty of Storage\\nDurable Metal Bar Pulls\\n \\n\\n\\nDownload Server Specification Sheet\\nRead Reviews\\n',\n",
       " '\\nDescription\\n\\n\\nThe Pibbs Wave Salon Mirror adds a fashionable, yet subtle accent to any contemporary salon or spa. Available with a silver or black frame, this extra-large, full-length mirror is made with top-of-the-line materials, and is framed by a hip and polished wave design. The sleek style of the Pibbs Wave Salon Mirror elevates any salon styling station to the next level. This salon mirror is also extremely versatile as it can be used by itself or along side any free-standing salon station to accompany it. We also offer the Pibbs Wave Salon Mirror & Storage Server\\xa0\\xa0and the Pibbs Wave Isola Double Sided Station.\\nFeatures:\\n\\nAvailable in Silver or Black\\nExtra-Large, Full-Length Mirror\\nModern Frame w/ Wave Design\\nExtremely Versatile Salon Mirror\\nShips Assembled & Ready to Install\\n \\n\\n\\nRead Reviews\\n',\n",
       " '\\nDescription\\n\\n\\nThe Pibbs Wave Salon Mirror & Storage Server is a modern floating styling station that adds a fashionable, yet subtle accent to any salon or spa. Available with a black or silver frame, the extra-large, full-length mirror is finished with a vibrant polished wave design. The wood server is available in black or white, and features durable metal bar pulls, 2 tool holders – 1 with wire access to keep the drawer closed while using your tools, 2 spacious storage cabinets on the right side, and 2 large storage cabinets on the left side. The Pibbs Wave Salon Mirror & Storage Server has a small footprint with plenty of space for products and storage, and brings a refined elevation to any modern salon or spa. We also offer the Pibbs Wave Isola Double Sided Station and the Pibbs Wave Salon Mirror for design continuity across your salon.\\xa0\\nFeatures:\\n\\nFrame Available in Silver or Black\\nServer Available in Black or White\\nExtra-Large, Full-Length Mirror\\nModern Frame w/ Wave Design\\nDurable Metal Bar Drawer Pulls\\nPull-Out Tool Holder w/ Wire Access\\n2 Large Storage Cabinets on Left Side\\n2 Tool Holders on Right Side\\n2 Spacious Storage Cabinets on Right Side\\nSmall Footprint w/ Plenty of Storage\\n \\n\\n\\nDownload Server Specification Sheet\\nRead Reviews\\n',\n",
       " '\\nDescription\\n\\n\\nThe Pibbs Classic Salon Mirror makes a perfect addition to a classically styled salon or spa. Available in silver or black, this extra-large, full-length mirror is made with top-of-the-line materials, and is framed by a refined, yet ornate design with curved edges and a dotted accent. The elegant simplicity of the Pibbs Classic Salon Mirror elevates any salon styling station. This salon mirror is also extremely versatile in that it can be used by itself or along side any free-standing salon styling station to accompany it. We also offer the Pibbs Classic Salon Mirror & Storage Server for design continuity across your salon.\\xa0\\nFeatures:\\n\\nAvailable w/ a Silver or Black Frame\\nExtra-Large, Full-Length Mirror\\nClassic Frame w/ Curved Edges & Dotted Accent\\nArrives Assembled & Ready to Install\\nExtremely Versatile Salon Mirror Station\\n \\n\\n\\nRead Reviews\\n',\n",
       " '\\nDescription\\n\\n\\nThe Pibbs Classic Salon Mirror & Storage Server is an elegant floating styling station that brings a classic, clean look to any salon. Available with a silver or black frame, the extra-large, full-length mirror is framed by a refined, yet ornate design with curved edges and a dotted accent. The server is available in black or white, and features 1 pull out tool panel with tool holders – 1 with wire access to keep the drawer closed while using your tools, 1 utility drawer,\\xa0 2 spacious storage cabinets on the right side, 2 large storage cabinets on the left side, and durable metal bar pulls. Keep your salon station looking clean with the extensive storage and small footprint of the refined, luxurious Pibbs Classic Salon Mirror & Storage Server We also offer the Pibbs Class Salon Mirror for design continuity across your salon.\\xa0\\nFeatures:\\n\\nFrame Available in Silver or Black\\nServer Available in Black or White\\nPull-Out Tool Holder w/ Wire Access\\n2 Large Storage Cabinets on Left Side\\n1 Pull Out Tool Panel on Right Side\\n1 Utility Drawer on the Right Side\\n2 Spacious Storage Cabinets on Right Side\\nExtra-Large Full-Length Mirror\\nSmall Footprint w/ Plenty of Storage\\nClassic Frame w/ Curved Edges & Dotted Accent\\nDurable Metal Bar Pulls\\n \\n\\n\\nDownload Server Specification Sheet\\nRead Reviews\\n',\n",
       " '\\nDescription\\n\\n\\nThe Pibbs Lumina LED Salon Mirror & Storage Server add a clean & modern touch to any salon, spa or barbershop. The extra-large, full-length mirror features a built-in dimmable LED light with an easy and accessible on/off button, that will bring a refined glamour to your styling station. The wood server is available in black or white, and features durable metal bar pulls, 1 tool holders with wire access to keep the drawer closed while using your tools, 1 utility drawer, 2 spacious storage cabinets on the right side, and 2 large storage cabinets on the left side. The beautiful Pibbs Lumina LED Salon Mirror & Storage Server has a small footprint with plenty of space for products and storage, and brings an opulent elevation to any upscale salon or spa. And if you need an addtioanl mirror to match this luxe server we offer the Pibbs Lumnina LED Salon Mirror.\\xa0\\nFeatures:\\n\\nExtra-Large, Full-Length Mirror\\nBuilt-In Dimmable LED Light\\nEasy & Accessible On/Off Button\\nClean & Modern Style\\nDurable Metal Bar Drawer Pulls\\nPull-Out Tool Holder w/ Wire Access\\n2 Large Storage Cabinets on Left Side\\n1 Pull Out Tool Panel with Tool Holders on Right Side\\n1 Utility Drawer on Right Side\\n2 Spacious Storage Cabinets on Right Side\\nSmall Footprint w/ Plenty of Storage\\n \\n\\n\\nDownload Server Specification Sheet\\nRead Reviews\\n']"
      ]
     },
     "execution_count": 55,
     "metadata": {},
     "output_type": "execute_result"
    }
   ],
   "source": [
    "new_list"
   ]
  },
  {
   "cell_type": "code",
   "execution_count": 56,
   "metadata": {
    "ExecuteTime": {
     "end_time": "2020-05-30T09:04:48.223963Z",
     "start_time": "2020-05-30T09:04:48.200119Z"
    }
   },
   "outputs": [],
   "source": [
    "import pandas as pd\n"
   ]
  },
  {
   "cell_type": "code",
   "execution_count": 57,
   "metadata": {
    "ExecuteTime": {
     "end_time": "2020-05-30T09:07:11.263767Z",
     "start_time": "2020-05-30T09:07:11.254228Z"
    }
   },
   "outputs": [],
   "source": [
    "dictionary1 = {'URL':urls, 'Description':new_list}"
   ]
  },
  {
   "cell_type": "code",
   "execution_count": 58,
   "metadata": {
    "ExecuteTime": {
     "end_time": "2020-05-30T09:07:42.540184Z",
     "start_time": "2020-05-30T09:07:42.526866Z"
    }
   },
   "outputs": [],
   "source": [
    "df= pd.DataFrame(dictionary1)"
   ]
  },
  {
   "cell_type": "code",
   "execution_count": 66,
   "metadata": {
    "ExecuteTime": {
     "end_time": "2020-05-30T09:13:29.401426Z",
     "start_time": "2020-05-30T09:13:29.384051Z"
    }
   },
   "outputs": [
    {
     "data": {
      "text/html": [
       "<div>\n",
       "<style scoped>\n",
       "    .dataframe tbody tr th:only-of-type {\n",
       "        vertical-align: middle;\n",
       "    }\n",
       "\n",
       "    .dataframe tbody tr th {\n",
       "        vertical-align: top;\n",
       "    }\n",
       "\n",
       "    .dataframe thead th {\n",
       "        text-align: right;\n",
       "    }\n",
       "</style>\n",
       "<table border=\"1\" class=\"dataframe\">\n",
       "  <thead>\n",
       "    <tr style=\"text-align: right;\">\n",
       "      <th></th>\n",
       "      <th>URL</th>\n",
       "      <th>Description</th>\n",
       "    </tr>\n",
       "  </thead>\n",
       "  <tbody>\n",
       "    <tr>\n",
       "      <td>0</td>\n",
       "      <td>https://www.buyritebeauty.com/belvedere-bu12-n...</td>\n",
       "      <td>\\nDescription\\n\\n\\nThe Belvedere Maletti Nova ...</td>\n",
       "    </tr>\n",
       "    <tr>\n",
       "      <td>1</td>\n",
       "      <td>https://www.buyritebeauty.com/belvedere-kami-u...</td>\n",
       "      <td>\\nDescription\\n\\n\\nThe Belvedere Kami Unisex B...</td>\n",
       "    </tr>\n",
       "    <tr>\n",
       "      <td>2</td>\n",
       "      <td>https://www.buyritebeauty.com/belvedere-rocky-...</td>\n",
       "      <td>\\nDescription\\n\\n\\nThe Belvedere Rocky Barber ...</td>\n",
       "    </tr>\n",
       "    <tr>\n",
       "      <td>3</td>\n",
       "      <td>https://www.buyritebeauty.com/belvedere-zeus-e...</td>\n",
       "      <td>\\nDescription\\n\\n\\nThe Belvedere Zeus Easy Bar...</td>\n",
       "    </tr>\n",
       "    <tr>\n",
       "      <td>4</td>\n",
       "      <td>https://www.buyritebeauty.com/belvedere-camale...</td>\n",
       "      <td>\\nDescription\\n\\n\\nThe Belvedere Camaleonte Fa...</td>\n",
       "    </tr>\n",
       "  </tbody>\n",
       "</table>\n",
       "</div>"
      ],
      "text/plain": [
       "                                                 URL  \\\n",
       "0  https://www.buyritebeauty.com/belvedere-bu12-n...   \n",
       "1  https://www.buyritebeauty.com/belvedere-kami-u...   \n",
       "2  https://www.buyritebeauty.com/belvedere-rocky-...   \n",
       "3  https://www.buyritebeauty.com/belvedere-zeus-e...   \n",
       "4  https://www.buyritebeauty.com/belvedere-camale...   \n",
       "\n",
       "                                         Description  \n",
       "0  \\nDescription\\n\\n\\nThe Belvedere Maletti Nova ...  \n",
       "1  \\nDescription\\n\\n\\nThe Belvedere Kami Unisex B...  \n",
       "2  \\nDescription\\n\\n\\nThe Belvedere Rocky Barber ...  \n",
       "3  \\nDescription\\n\\n\\nThe Belvedere Zeus Easy Bar...  \n",
       "4  \\nDescription\\n\\n\\nThe Belvedere Camaleonte Fa...  "
      ]
     },
     "execution_count": 66,
     "metadata": {},
     "output_type": "execute_result"
    }
   ],
   "source": [
    "df.head()"
   ]
  },
  {
   "cell_type": "code",
   "execution_count": 67,
   "metadata": {
    "ExecuteTime": {
     "end_time": "2020-05-30T09:14:54.628156Z",
     "start_time": "2020-05-30T09:14:54.610196Z"
    }
   },
   "outputs": [],
   "source": [
    "df.to_csv(r'EXPORT.csv', index = False)"
   ]
  },
  {
   "cell_type": "code",
   "execution_count": null,
   "metadata": {},
   "outputs": [],
   "source": []
  }
 ],
 "metadata": {
  "kernelspec": {
   "display_name": "Python [conda env:learn-env] *",
   "language": "python",
   "name": "conda-env-learn-env-py"
  },
  "language_info": {
   "codemirror_mode": {
    "name": "ipython",
    "version": 3
   },
   "file_extension": ".py",
   "mimetype": "text/x-python",
   "name": "python",
   "nbconvert_exporter": "python",
   "pygments_lexer": "ipython3",
   "version": "3.6.9"
  },
  "toc": {
   "base_numbering": 1,
   "nav_menu": {},
   "number_sections": true,
   "sideBar": true,
   "skip_h1_title": false,
   "title_cell": "Table of Contents",
   "title_sidebar": "Contents",
   "toc_cell": false,
   "toc_position": {},
   "toc_section_display": true,
   "toc_window_display": false
  }
 },
 "nbformat": 4,
 "nbformat_minor": 2
}
